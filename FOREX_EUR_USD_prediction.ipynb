{
 "cells": [
  {
   "cell_type": "markdown",
   "id": "a41c26c9",
   "metadata": {},
   "source": [
    "# Sevendi Eldrige Rifki Poluan🔥🔥🔥\n",
    "### Descriptions: Time series prediction"
   ]
  },
  {
   "cell_type": "code",
   "execution_count": 2,
   "id": "1eeeffcb",
   "metadata": {
    "scrolled": false
   },
   "outputs": [
    {
     "name": "stdout",
     "output_type": "stream",
     "text": [
      "Wed May 17 13:26:39 2023       \n",
      "+-----------------------------------------------------------------------------+\n",
      "| NVIDIA-SMI 525.116.04   Driver Version: 525.116.04   CUDA Version: 12.0     |\n",
      "|-------------------------------+----------------------+----------------------+\n",
      "| GPU  Name        Persistence-M| Bus-Id        Disp.A | Volatile Uncorr. ECC |\n",
      "| Fan  Temp  Perf  Pwr:Usage/Cap|         Memory-Usage | GPU-Util  Compute M. |\n",
      "|                               |                      |               MIG M. |\n",
      "|===============================+======================+======================|\n",
      "|   0  NVIDIA GeForce ...  Off  | 00000000:65:00.0 Off |                  N/A |\n",
      "|  0%   44C    P0   116W / 390W |      0MiB / 24576MiB |      0%      Default |\n",
      "|                               |                      |                  N/A |\n",
      "+-------------------------------+----------------------+----------------------+\n",
      "                                                                               \n",
      "+-----------------------------------------------------------------------------+\n",
      "| Processes:                                                                  |\n",
      "|  GPU   GI   CI        PID   Type   Process name                  GPU Memory |\n",
      "|        ID   ID                                                   Usage      |\n",
      "|=============================================================================|\n",
      "|  No running processes found                                                 |\n",
      "+-----------------------------------------------------------------------------+\n"
     ]
    }
   ],
   "source": [
    "# working environment\n",
    "!nvidia-smi"
   ]
  },
  {
   "cell_type": "code",
   "execution_count": null,
   "id": "8dffca3e",
   "metadata": {},
   "outputs": [],
   "source": [
    "!pip install pandas_ta\n",
    "!pip install mplfinance\n",
    "!pip install plotly\n",
    "!pip install pydot"
   ]
  },
  {
   "cell_type": "code",
   "execution_count": null,
   "id": "a3389aac",
   "metadata": {},
   "outputs": [],
   "source": [
    "!apt-get install graphviz -y"
   ]
  },
  {
   "cell_type": "markdown",
   "id": "c5b68208",
   "metadata": {},
   "source": [
    "## <font color='red'>Import the necessary libraries</font>"
   ]
  },
  {
   "cell_type": "code",
   "execution_count": 1,
   "id": "dff4a9e1",
   "metadata": {
    "scrolled": true
   },
   "outputs": [
    {
     "name": "stderr",
     "output_type": "stream",
     "text": [
      "2023-05-17 13:39:58.763524: I tensorflow/core/platform/cpu_feature_guard.cc:182] This TensorFlow binary is optimized to use available CPU instructions in performance-critical operations.\n",
      "To enable the following instructions: AVX2 AVX512F AVX512_VNNI FMA, in other operations, rebuild TensorFlow with the appropriate compiler flags.\n"
     ]
    }
   ],
   "source": [
    "import tensorflow as tf\n",
    "import pandas as pd\n",
    "import numpy as np\n",
    "import os  \n",
    "import time \n",
    "import datetime\n",
    "import matplotlib.pyplot as plt\n",
    "import pandas_ta as ta # https://github.com/twopirllc/pandas-ta\n",
    "from sklearn.preprocessing import MinMaxScaler, StandardScaler\n",
    "import plotly.graph_objects as go"
   ]
  },
  {
   "cell_type": "code",
   "execution_count": 58,
   "id": "e9aa8877",
   "metadata": {
    "scrolled": true
   },
   "outputs": [
    {
     "data": {
      "text/plain": [
       "'2.12.0'"
      ]
     },
     "execution_count": 58,
     "metadata": {},
     "output_type": "execute_result"
    }
   ],
   "source": [
    "tf.__version__"
   ]
  },
  {
   "cell_type": "markdown",
   "id": "9ce022c8",
   "metadata": {},
   "source": [
    "## <font color='red'>For this experiment, I will be conducting basic time series forecasting on EUR_USD data from the forex market, covering the period from 2005 to 2020. The dataset was obtained from [Kaggle](https://www.kaggle.com/datasets/imetomi/eur-usd-forex-pair-historical-data-2002-2019?resource=download), where you can also access and download the dataset.</font>"
   ]
  },
  {
   "cell_type": "code",
   "execution_count": 494,
   "id": "56cb4bb7",
   "metadata": {},
   "outputs": [
    {
     "name": "stdout",
     "output_type": "stream",
     "text": [
      "FOREX_EUR_USD_prediction.ipynb\tarchive.zip  eurusd_hour.csv\teurusd_news.csv\r\n",
      "README.md\t\t\tcheckpoint   eurusd_minute.csv\tmodel.png\r\n"
     ]
    }
   ],
   "source": [
    "!ls"
   ]
  },
  {
   "cell_type": "code",
   "execution_count": 4,
   "id": "7e763c09",
   "metadata": {
    "scrolled": false
   },
   "outputs": [
    {
     "name": "stdout",
     "output_type": "stream",
     "text": [
      "Archive:  archive.zip\n",
      "  inflating: eurusd_hour.csv         \n",
      "  inflating: eurusd_minute.csv       \n",
      "  inflating: eurusd_news.csv         \n"
     ]
    }
   ],
   "source": [
    "!unzip -o archive.zip"
   ]
  },
  {
   "cell_type": "code",
   "execution_count": 5,
   "id": "22db97de",
   "metadata": {
    "scrolled": true
   },
   "outputs": [
    {
     "name": "stdout",
     "output_type": "stream",
     "text": [
      "FOREX_EUR_USD_prediction.ipynb\teurusd_hour.csv    eurusd_news.csv\r\n",
      "archive.zip\t\t\teurusd_minute.csv\r\n"
     ]
    }
   ],
   "source": [
    "!ls"
   ]
  },
  {
   "cell_type": "markdown",
   "id": "98c7f079",
   "metadata": {},
   "source": [
    "## <font color='red'>Let's load the dataset for one-hour data prediction.</font>"
   ]
  },
  {
   "cell_type": "code",
   "execution_count": 6,
   "id": "72556b5c",
   "metadata": {},
   "outputs": [],
   "source": [
    "datasets_hour = pd.read_csv(\"eurusd_hour.csv\")"
   ]
  },
  {
   "cell_type": "code",
   "execution_count": 7,
   "id": "46c28bb3",
   "metadata": {
    "scrolled": true
   },
   "outputs": [
    {
     "data": {
      "text/html": [
       "<div>\n",
       "<style scoped>\n",
       "    .dataframe tbody tr th:only-of-type {\n",
       "        vertical-align: middle;\n",
       "    }\n",
       "\n",
       "    .dataframe tbody tr th {\n",
       "        vertical-align: top;\n",
       "    }\n",
       "\n",
       "    .dataframe thead th {\n",
       "        text-align: right;\n",
       "    }\n",
       "</style>\n",
       "<table border=\"1\" class=\"dataframe\">\n",
       "  <thead>\n",
       "    <tr style=\"text-align: right;\">\n",
       "      <th></th>\n",
       "      <th>Date</th>\n",
       "      <th>Time</th>\n",
       "      <th>BO</th>\n",
       "      <th>BH</th>\n",
       "      <th>BL</th>\n",
       "      <th>BC</th>\n",
       "      <th>BCh</th>\n",
       "      <th>AO</th>\n",
       "      <th>AH</th>\n",
       "      <th>AL</th>\n",
       "      <th>AC</th>\n",
       "      <th>ACh</th>\n",
       "    </tr>\n",
       "  </thead>\n",
       "  <tbody>\n",
       "    <tr>\n",
       "      <th>0</th>\n",
       "      <td>2005-05-02</td>\n",
       "      <td>00:00</td>\n",
       "      <td>1.2852</td>\n",
       "      <td>1.2852</td>\n",
       "      <td>1.2840</td>\n",
       "      <td>1.2844</td>\n",
       "      <td>-0.0008</td>\n",
       "      <td>1.2854</td>\n",
       "      <td>1.2854</td>\n",
       "      <td>1.2842</td>\n",
       "      <td>1.2846</td>\n",
       "      <td>-0.0008</td>\n",
       "    </tr>\n",
       "    <tr>\n",
       "      <th>1</th>\n",
       "      <td>2005-05-02</td>\n",
       "      <td>01:00</td>\n",
       "      <td>1.2844</td>\n",
       "      <td>1.2848</td>\n",
       "      <td>1.2839</td>\n",
       "      <td>1.2842</td>\n",
       "      <td>-0.0002</td>\n",
       "      <td>1.2846</td>\n",
       "      <td>1.2850</td>\n",
       "      <td>1.2841</td>\n",
       "      <td>1.2844</td>\n",
       "      <td>-0.0002</td>\n",
       "    </tr>\n",
       "    <tr>\n",
       "      <th>2</th>\n",
       "      <td>2005-05-02</td>\n",
       "      <td>02:00</td>\n",
       "      <td>1.2843</td>\n",
       "      <td>1.2854</td>\n",
       "      <td>1.2841</td>\n",
       "      <td>1.2851</td>\n",
       "      <td>0.0008</td>\n",
       "      <td>1.2845</td>\n",
       "      <td>1.2856</td>\n",
       "      <td>1.2843</td>\n",
       "      <td>1.2853</td>\n",
       "      <td>0.0008</td>\n",
       "    </tr>\n",
       "    <tr>\n",
       "      <th>3</th>\n",
       "      <td>2005-05-02</td>\n",
       "      <td>03:00</td>\n",
       "      <td>1.2851</td>\n",
       "      <td>1.2859</td>\n",
       "      <td>1.2850</td>\n",
       "      <td>1.2851</td>\n",
       "      <td>0.0000</td>\n",
       "      <td>1.2853</td>\n",
       "      <td>1.2861</td>\n",
       "      <td>1.2852</td>\n",
       "      <td>1.2853</td>\n",
       "      <td>0.0000</td>\n",
       "    </tr>\n",
       "    <tr>\n",
       "      <th>4</th>\n",
       "      <td>2005-05-02</td>\n",
       "      <td>04:00</td>\n",
       "      <td>1.2852</td>\n",
       "      <td>1.2859</td>\n",
       "      <td>1.2849</td>\n",
       "      <td>1.2855</td>\n",
       "      <td>0.0003</td>\n",
       "      <td>1.2854</td>\n",
       "      <td>1.2861</td>\n",
       "      <td>1.2851</td>\n",
       "      <td>1.2857</td>\n",
       "      <td>0.0003</td>\n",
       "    </tr>\n",
       "  </tbody>\n",
       "</table>\n",
       "</div>"
      ],
      "text/plain": [
       "         Date   Time      BO      BH      BL      BC     BCh      AO      AH   \n",
       "0  2005-05-02  00:00  1.2852  1.2852  1.2840  1.2844 -0.0008  1.2854  1.2854  \\\n",
       "1  2005-05-02  01:00  1.2844  1.2848  1.2839  1.2842 -0.0002  1.2846  1.2850   \n",
       "2  2005-05-02  02:00  1.2843  1.2854  1.2841  1.2851  0.0008  1.2845  1.2856   \n",
       "3  2005-05-02  03:00  1.2851  1.2859  1.2850  1.2851  0.0000  1.2853  1.2861   \n",
       "4  2005-05-02  04:00  1.2852  1.2859  1.2849  1.2855  0.0003  1.2854  1.2861   \n",
       "\n",
       "       AL      AC     ACh  \n",
       "0  1.2842  1.2846 -0.0008  \n",
       "1  1.2841  1.2844 -0.0002  \n",
       "2  1.2843  1.2853  0.0008  \n",
       "3  1.2852  1.2853  0.0000  \n",
       "4  1.2851  1.2857  0.0003  "
      ]
     },
     "execution_count": 7,
     "metadata": {},
     "output_type": "execute_result"
    }
   ],
   "source": [
    "datasets_hour.head()"
   ]
  },
  {
   "cell_type": "code",
   "execution_count": 8,
   "id": "a3968654",
   "metadata": {},
   "outputs": [
    {
     "data": {
      "text/plain": [
       "(93084, 12)"
      ]
     },
     "execution_count": 8,
     "metadata": {},
     "output_type": "execute_result"
    }
   ],
   "source": [
    "datasets_hour.shape"
   ]
  },
  {
   "cell_type": "code",
   "execution_count": 9,
   "id": "e7a4c5fb",
   "metadata": {
    "scrolled": true
   },
   "outputs": [
    {
     "data": {
      "text/plain": [
       "('2020-04-29', '2005-05-02')"
      ]
     },
     "execution_count": 9,
     "metadata": {},
     "output_type": "execute_result"
    }
   ],
   "source": [
    "max(datasets_hour.Date), min(datasets_hour.Date)"
   ]
  },
  {
   "cell_type": "markdown",
   "id": "fca64cab",
   "metadata": {},
   "source": [
    "## <font color='red'>In this scenario, since the dataset includes both ask and bid prices, I will only consider using the bid price data, assuming it represents the market price data in the dataset.</font> "
   ]
  },
  {
   "cell_type": "code",
   "execution_count": 10,
   "id": "6ec5901f",
   "metadata": {},
   "outputs": [],
   "source": [
    "datasets_hour = datasets_hour[[\"Date\", \"Time\", \"BO\", \"BH\", \"BL\", \"BC\"]] "
   ]
  },
  {
   "cell_type": "code",
   "execution_count": 11,
   "id": "ffb2e2f4",
   "metadata": {},
   "outputs": [
    {
     "data": {
      "text/html": [
       "<div>\n",
       "<style scoped>\n",
       "    .dataframe tbody tr th:only-of-type {\n",
       "        vertical-align: middle;\n",
       "    }\n",
       "\n",
       "    .dataframe tbody tr th {\n",
       "        vertical-align: top;\n",
       "    }\n",
       "\n",
       "    .dataframe thead th {\n",
       "        text-align: right;\n",
       "    }\n",
       "</style>\n",
       "<table border=\"1\" class=\"dataframe\">\n",
       "  <thead>\n",
       "    <tr style=\"text-align: right;\">\n",
       "      <th></th>\n",
       "      <th>Date</th>\n",
       "      <th>Time</th>\n",
       "      <th>BO</th>\n",
       "      <th>BH</th>\n",
       "      <th>BL</th>\n",
       "      <th>BC</th>\n",
       "    </tr>\n",
       "  </thead>\n",
       "  <tbody>\n",
       "    <tr>\n",
       "      <th>0</th>\n",
       "      <td>2005-05-02</td>\n",
       "      <td>00:00</td>\n",
       "      <td>1.2852</td>\n",
       "      <td>1.2852</td>\n",
       "      <td>1.2840</td>\n",
       "      <td>1.2844</td>\n",
       "    </tr>\n",
       "    <tr>\n",
       "      <th>1</th>\n",
       "      <td>2005-05-02</td>\n",
       "      <td>01:00</td>\n",
       "      <td>1.2844</td>\n",
       "      <td>1.2848</td>\n",
       "      <td>1.2839</td>\n",
       "      <td>1.2842</td>\n",
       "    </tr>\n",
       "    <tr>\n",
       "      <th>2</th>\n",
       "      <td>2005-05-02</td>\n",
       "      <td>02:00</td>\n",
       "      <td>1.2843</td>\n",
       "      <td>1.2854</td>\n",
       "      <td>1.2841</td>\n",
       "      <td>1.2851</td>\n",
       "    </tr>\n",
       "    <tr>\n",
       "      <th>3</th>\n",
       "      <td>2005-05-02</td>\n",
       "      <td>03:00</td>\n",
       "      <td>1.2851</td>\n",
       "      <td>1.2859</td>\n",
       "      <td>1.2850</td>\n",
       "      <td>1.2851</td>\n",
       "    </tr>\n",
       "    <tr>\n",
       "      <th>4</th>\n",
       "      <td>2005-05-02</td>\n",
       "      <td>04:00</td>\n",
       "      <td>1.2852</td>\n",
       "      <td>1.2859</td>\n",
       "      <td>1.2849</td>\n",
       "      <td>1.2855</td>\n",
       "    </tr>\n",
       "  </tbody>\n",
       "</table>\n",
       "</div>"
      ],
      "text/plain": [
       "         Date   Time      BO      BH      BL      BC\n",
       "0  2005-05-02  00:00  1.2852  1.2852  1.2840  1.2844\n",
       "1  2005-05-02  01:00  1.2844  1.2848  1.2839  1.2842\n",
       "2  2005-05-02  02:00  1.2843  1.2854  1.2841  1.2851\n",
       "3  2005-05-02  03:00  1.2851  1.2859  1.2850  1.2851\n",
       "4  2005-05-02  04:00  1.2852  1.2859  1.2849  1.2855"
      ]
     },
     "execution_count": 11,
     "metadata": {},
     "output_type": "execute_result"
    }
   ],
   "source": [
    "datasets_hour.head()"
   ]
  },
  {
   "cell_type": "markdown",
   "id": "dc290a8f",
   "metadata": {},
   "source": [
    "## <font color='red'>I want to try a different approach for predicting the market data. Instead of directly predicting the next market price, I will predict the value of how many pips the market will move from the current price.</font>"
   ]
  },
  {
   "cell_type": "code",
   "execution_count": 12,
   "id": "977f31dc",
   "metadata": {},
   "outputs": [],
   "source": [
    "datasets_hour[\"Target\"] = datasets_hour.BC.diff()"
   ]
  },
  {
   "cell_type": "code",
   "execution_count": 13,
   "id": "9b195d53",
   "metadata": {
    "scrolled": true
   },
   "outputs": [
    {
     "data": {
      "text/html": [
       "<div>\n",
       "<style scoped>\n",
       "    .dataframe tbody tr th:only-of-type {\n",
       "        vertical-align: middle;\n",
       "    }\n",
       "\n",
       "    .dataframe tbody tr th {\n",
       "        vertical-align: top;\n",
       "    }\n",
       "\n",
       "    .dataframe thead th {\n",
       "        text-align: right;\n",
       "    }\n",
       "</style>\n",
       "<table border=\"1\" class=\"dataframe\">\n",
       "  <thead>\n",
       "    <tr style=\"text-align: right;\">\n",
       "      <th></th>\n",
       "      <th>Date</th>\n",
       "      <th>Time</th>\n",
       "      <th>BO</th>\n",
       "      <th>BH</th>\n",
       "      <th>BL</th>\n",
       "      <th>BC</th>\n",
       "      <th>Target</th>\n",
       "    </tr>\n",
       "  </thead>\n",
       "  <tbody>\n",
       "    <tr>\n",
       "      <th>0</th>\n",
       "      <td>2005-05-02</td>\n",
       "      <td>00:00</td>\n",
       "      <td>1.2852</td>\n",
       "      <td>1.2852</td>\n",
       "      <td>1.2840</td>\n",
       "      <td>1.2844</td>\n",
       "      <td>NaN</td>\n",
       "    </tr>\n",
       "    <tr>\n",
       "      <th>1</th>\n",
       "      <td>2005-05-02</td>\n",
       "      <td>01:00</td>\n",
       "      <td>1.2844</td>\n",
       "      <td>1.2848</td>\n",
       "      <td>1.2839</td>\n",
       "      <td>1.2842</td>\n",
       "      <td>-0.0002</td>\n",
       "    </tr>\n",
       "    <tr>\n",
       "      <th>2</th>\n",
       "      <td>2005-05-02</td>\n",
       "      <td>02:00</td>\n",
       "      <td>1.2843</td>\n",
       "      <td>1.2854</td>\n",
       "      <td>1.2841</td>\n",
       "      <td>1.2851</td>\n",
       "      <td>0.0009</td>\n",
       "    </tr>\n",
       "    <tr>\n",
       "      <th>3</th>\n",
       "      <td>2005-05-02</td>\n",
       "      <td>03:00</td>\n",
       "      <td>1.2851</td>\n",
       "      <td>1.2859</td>\n",
       "      <td>1.2850</td>\n",
       "      <td>1.2851</td>\n",
       "      <td>0.0000</td>\n",
       "    </tr>\n",
       "    <tr>\n",
       "      <th>4</th>\n",
       "      <td>2005-05-02</td>\n",
       "      <td>04:00</td>\n",
       "      <td>1.2852</td>\n",
       "      <td>1.2859</td>\n",
       "      <td>1.2849</td>\n",
       "      <td>1.2855</td>\n",
       "      <td>0.0004</td>\n",
       "    </tr>\n",
       "  </tbody>\n",
       "</table>\n",
       "</div>"
      ],
      "text/plain": [
       "         Date   Time      BO      BH      BL      BC  Target\n",
       "0  2005-05-02  00:00  1.2852  1.2852  1.2840  1.2844     NaN\n",
       "1  2005-05-02  01:00  1.2844  1.2848  1.2839  1.2842 -0.0002\n",
       "2  2005-05-02  02:00  1.2843  1.2854  1.2841  1.2851  0.0009\n",
       "3  2005-05-02  03:00  1.2851  1.2859  1.2850  1.2851  0.0000\n",
       "4  2005-05-02  04:00  1.2852  1.2859  1.2849  1.2855  0.0004"
      ]
     },
     "execution_count": 13,
     "metadata": {},
     "output_type": "execute_result"
    }
   ],
   "source": [
    "datasets_hour.head()"
   ]
  },
  {
   "cell_type": "code",
   "execution_count": 14,
   "id": "911eccd2",
   "metadata": {},
   "outputs": [
    {
     "data": {
      "text/plain": [
       "0       NaN\n",
       "1   -0.0002\n",
       "2    0.0009\n",
       "3    0.0000\n",
       "4    0.0004\n",
       "Name: Target, dtype: float64"
      ]
     },
     "execution_count": 14,
     "metadata": {},
     "output_type": "execute_result"
    }
   ],
   "source": [
    "datasets_hour[\"Target\"].head()"
   ]
  },
  {
   "cell_type": "code",
   "execution_count": 15,
   "id": "fe6245ef",
   "metadata": {
    "scrolled": true
   },
   "outputs": [],
   "source": [
    "datasets_hour[\"Target\"] = datasets_hour[\"Target\"].shift(-1)"
   ]
  },
  {
   "cell_type": "code",
   "execution_count": 16,
   "id": "df208532",
   "metadata": {},
   "outputs": [
    {
     "data": {
      "text/html": [
       "<div>\n",
       "<style scoped>\n",
       "    .dataframe tbody tr th:only-of-type {\n",
       "        vertical-align: middle;\n",
       "    }\n",
       "\n",
       "    .dataframe tbody tr th {\n",
       "        vertical-align: top;\n",
       "    }\n",
       "\n",
       "    .dataframe thead th {\n",
       "        text-align: right;\n",
       "    }\n",
       "</style>\n",
       "<table border=\"1\" class=\"dataframe\">\n",
       "  <thead>\n",
       "    <tr style=\"text-align: right;\">\n",
       "      <th></th>\n",
       "      <th>Date</th>\n",
       "      <th>Time</th>\n",
       "      <th>BO</th>\n",
       "      <th>BH</th>\n",
       "      <th>BL</th>\n",
       "      <th>BC</th>\n",
       "      <th>Target</th>\n",
       "    </tr>\n",
       "  </thead>\n",
       "  <tbody>\n",
       "    <tr>\n",
       "      <th>0</th>\n",
       "      <td>2005-05-02</td>\n",
       "      <td>00:00</td>\n",
       "      <td>1.2852</td>\n",
       "      <td>1.2852</td>\n",
       "      <td>1.2840</td>\n",
       "      <td>1.2844</td>\n",
       "      <td>-0.0002</td>\n",
       "    </tr>\n",
       "    <tr>\n",
       "      <th>1</th>\n",
       "      <td>2005-05-02</td>\n",
       "      <td>01:00</td>\n",
       "      <td>1.2844</td>\n",
       "      <td>1.2848</td>\n",
       "      <td>1.2839</td>\n",
       "      <td>1.2842</td>\n",
       "      <td>0.0009</td>\n",
       "    </tr>\n",
       "    <tr>\n",
       "      <th>2</th>\n",
       "      <td>2005-05-02</td>\n",
       "      <td>02:00</td>\n",
       "      <td>1.2843</td>\n",
       "      <td>1.2854</td>\n",
       "      <td>1.2841</td>\n",
       "      <td>1.2851</td>\n",
       "      <td>0.0000</td>\n",
       "    </tr>\n",
       "    <tr>\n",
       "      <th>3</th>\n",
       "      <td>2005-05-02</td>\n",
       "      <td>03:00</td>\n",
       "      <td>1.2851</td>\n",
       "      <td>1.2859</td>\n",
       "      <td>1.2850</td>\n",
       "      <td>1.2851</td>\n",
       "      <td>0.0004</td>\n",
       "    </tr>\n",
       "    <tr>\n",
       "      <th>4</th>\n",
       "      <td>2005-05-02</td>\n",
       "      <td>04:00</td>\n",
       "      <td>1.2852</td>\n",
       "      <td>1.2859</td>\n",
       "      <td>1.2849</td>\n",
       "      <td>1.2855</td>\n",
       "      <td>-0.0001</td>\n",
       "    </tr>\n",
       "  </tbody>\n",
       "</table>\n",
       "</div>"
      ],
      "text/plain": [
       "         Date   Time      BO      BH      BL      BC  Target\n",
       "0  2005-05-02  00:00  1.2852  1.2852  1.2840  1.2844 -0.0002\n",
       "1  2005-05-02  01:00  1.2844  1.2848  1.2839  1.2842  0.0009\n",
       "2  2005-05-02  02:00  1.2843  1.2854  1.2841  1.2851  0.0000\n",
       "3  2005-05-02  03:00  1.2851  1.2859  1.2850  1.2851  0.0004\n",
       "4  2005-05-02  04:00  1.2852  1.2859  1.2849  1.2855 -0.0001"
      ]
     },
     "execution_count": 16,
     "metadata": {},
     "output_type": "execute_result"
    }
   ],
   "source": [
    "datasets_hour.head()"
   ]
  },
  {
   "cell_type": "markdown",
   "id": "80237ea8",
   "metadata": {},
   "source": [
    "## <font color='red'>Given that our target price scale is very small, I intend to scale up the values to a larger magnitude. This approach aims to prevent mispredictions by the model and improve its learning efficiency.</font>"
   ]
  },
  {
   "cell_type": "code",
   "execution_count": 17,
   "id": "4f533641",
   "metadata": {},
   "outputs": [
    {
     "data": {
      "text/plain": [
       "0        0.449638\n",
       "1        0.469565\n",
       "2        0.453261\n",
       "3        0.460507\n",
       "4        0.451449\n",
       "           ...   \n",
       "93079    0.459601\n",
       "93080    0.446014\n",
       "93081    0.454348\n",
       "93082    0.458514\n",
       "93083         NaN\n",
       "Name: Target, Length: 93084, dtype: float64"
      ]
     },
     "execution_count": 17,
     "metadata": {},
     "output_type": "execute_result"
    }
   ],
   "source": [
    "label_scale = MinMaxScaler()\n",
    "label_scale.fit(np.expand_dims(datasets_hour.Target, axis=1))\n",
    "datasets_hour[\"Target\"] = label_scale.transform(np.expand_dims(datasets_hour.Target, axis=1))\n",
    "datasets_hour[\"Target\"]"
   ]
  },
  {
   "cell_type": "markdown",
   "id": "1567519e",
   "metadata": {},
   "source": [
    "## <font color='red'>Given that time series data, such as forex market data, can exhibit seasonal patterns, I have decided to incorporate both date and hour information as training data. To encode these time units in a cyclical manner, I will use Periodicity encoding techniques, such as sine and cosine functions, to represent the cyclical patterns of date and hour information in a continuous and periodic manner.</font>\n",
    "\n",
    "    Periodicity encoding is a technique used in machine learning to represent time units, such as hours, days, months, or seasons, as periodic features using trigonometric functions, typically sine and cosine. This encoding allows the model to capture periodic patterns in the data more accurately, as it accounts for the cyclical nature of time units.\n",
    "\n",
    "    The basic idea behind periodicity encoding is to map time units onto a continuous scale that represents their cyclical patterns. For example, in a 24-hour time format, the hours repeat in a cyclical pattern from 0 to 23. By using sine and cosine functions, which have periodic properties with values ranging from -1 to 1, we can map the time units onto this continuous scale in a way that captures their cyclical patterns.\n",
    "\n",
    "    By encoding time units as periodic features, the model can learn to capture the cyclical patterns in the data more effectively. For example, in time series forecasting tasks, where the data exhibits periodic patterns such as daily or seasonal trends, periodicity encoding can help the model better understand and utilize these patterns in its predictions."
   ]
  },
  {
   "cell_type": "code",
   "execution_count": 18,
   "id": "62a5d7a4",
   "metadata": {},
   "outputs": [],
   "source": [
    "datasets_hour[\"month_sin\"] = datasets_hour.Date.apply(lambda x: np.sin(2 * np.pi * int(x.split(\"-\")[1]) / 12))\n",
    "datasets_hour[\"month_cos\"] = datasets_hour.Date.apply(lambda x: np.cos(2 * np.pi * int(x.split(\"-\")[1]) / 12))\n",
    "\n",
    "datasets_hour[\"date_sin\"] = datasets_hour.Date.apply(lambda x: np.sin(2 * np.pi * int(x.split(\"-\")[2]) / 31))\n",
    "datasets_hour[\"date_cos\"] = datasets_hour.Date.apply(lambda x: np.cos(2 * np.pi * int(x.split(\"-\")[2]) / 31))\n",
    "\n",
    "datasets_hour[\"hour_sin\"] = datasets_hour.Time.apply(lambda x: np.sin(2 * np.pi * int(x.split(\":\")[0]) / 12))\n",
    "datasets_hour[\"hour_cos\"] = datasets_hour.Time.apply(lambda x: np.cos(2 * np.pi * int(x.split(\":\")[0]) / 12)) "
   ]
  },
  {
   "cell_type": "code",
   "execution_count": 19,
   "id": "7f7f1171",
   "metadata": {
    "scrolled": false
   },
   "outputs": [
    {
     "data": {
      "text/html": [
       "<div>\n",
       "<style scoped>\n",
       "    .dataframe tbody tr th:only-of-type {\n",
       "        vertical-align: middle;\n",
       "    }\n",
       "\n",
       "    .dataframe tbody tr th {\n",
       "        vertical-align: top;\n",
       "    }\n",
       "\n",
       "    .dataframe thead th {\n",
       "        text-align: right;\n",
       "    }\n",
       "</style>\n",
       "<table border=\"1\" class=\"dataframe\">\n",
       "  <thead>\n",
       "    <tr style=\"text-align: right;\">\n",
       "      <th></th>\n",
       "      <th>Date</th>\n",
       "      <th>Time</th>\n",
       "      <th>BO</th>\n",
       "      <th>BH</th>\n",
       "      <th>BL</th>\n",
       "      <th>BC</th>\n",
       "      <th>Target</th>\n",
       "      <th>month_sin</th>\n",
       "      <th>month_cos</th>\n",
       "      <th>date_sin</th>\n",
       "      <th>date_cos</th>\n",
       "      <th>hour_sin</th>\n",
       "      <th>hour_cos</th>\n",
       "    </tr>\n",
       "  </thead>\n",
       "  <tbody>\n",
       "    <tr>\n",
       "      <th>0</th>\n",
       "      <td>2005-05-02</td>\n",
       "      <td>00:00</td>\n",
       "      <td>1.2852</td>\n",
       "      <td>1.2852</td>\n",
       "      <td>1.2840</td>\n",
       "      <td>1.2844</td>\n",
       "      <td>0.449638</td>\n",
       "      <td>0.5</td>\n",
       "      <td>-0.866025</td>\n",
       "      <td>0.394356</td>\n",
       "      <td>0.918958</td>\n",
       "      <td>0.000000</td>\n",
       "      <td>1.000000e+00</td>\n",
       "    </tr>\n",
       "    <tr>\n",
       "      <th>1</th>\n",
       "      <td>2005-05-02</td>\n",
       "      <td>01:00</td>\n",
       "      <td>1.2844</td>\n",
       "      <td>1.2848</td>\n",
       "      <td>1.2839</td>\n",
       "      <td>1.2842</td>\n",
       "      <td>0.469565</td>\n",
       "      <td>0.5</td>\n",
       "      <td>-0.866025</td>\n",
       "      <td>0.394356</td>\n",
       "      <td>0.918958</td>\n",
       "      <td>0.500000</td>\n",
       "      <td>8.660254e-01</td>\n",
       "    </tr>\n",
       "    <tr>\n",
       "      <th>2</th>\n",
       "      <td>2005-05-02</td>\n",
       "      <td>02:00</td>\n",
       "      <td>1.2843</td>\n",
       "      <td>1.2854</td>\n",
       "      <td>1.2841</td>\n",
       "      <td>1.2851</td>\n",
       "      <td>0.453261</td>\n",
       "      <td>0.5</td>\n",
       "      <td>-0.866025</td>\n",
       "      <td>0.394356</td>\n",
       "      <td>0.918958</td>\n",
       "      <td>0.866025</td>\n",
       "      <td>5.000000e-01</td>\n",
       "    </tr>\n",
       "    <tr>\n",
       "      <th>3</th>\n",
       "      <td>2005-05-02</td>\n",
       "      <td>03:00</td>\n",
       "      <td>1.2851</td>\n",
       "      <td>1.2859</td>\n",
       "      <td>1.2850</td>\n",
       "      <td>1.2851</td>\n",
       "      <td>0.460507</td>\n",
       "      <td>0.5</td>\n",
       "      <td>-0.866025</td>\n",
       "      <td>0.394356</td>\n",
       "      <td>0.918958</td>\n",
       "      <td>1.000000</td>\n",
       "      <td>6.123234e-17</td>\n",
       "    </tr>\n",
       "    <tr>\n",
       "      <th>4</th>\n",
       "      <td>2005-05-02</td>\n",
       "      <td>04:00</td>\n",
       "      <td>1.2852</td>\n",
       "      <td>1.2859</td>\n",
       "      <td>1.2849</td>\n",
       "      <td>1.2855</td>\n",
       "      <td>0.451449</td>\n",
       "      <td>0.5</td>\n",
       "      <td>-0.866025</td>\n",
       "      <td>0.394356</td>\n",
       "      <td>0.918958</td>\n",
       "      <td>0.866025</td>\n",
       "      <td>-5.000000e-01</td>\n",
       "    </tr>\n",
       "  </tbody>\n",
       "</table>\n",
       "</div>"
      ],
      "text/plain": [
       "         Date   Time      BO      BH      BL      BC    Target  month_sin   \n",
       "0  2005-05-02  00:00  1.2852  1.2852  1.2840  1.2844  0.449638        0.5  \\\n",
       "1  2005-05-02  01:00  1.2844  1.2848  1.2839  1.2842  0.469565        0.5   \n",
       "2  2005-05-02  02:00  1.2843  1.2854  1.2841  1.2851  0.453261        0.5   \n",
       "3  2005-05-02  03:00  1.2851  1.2859  1.2850  1.2851  0.460507        0.5   \n",
       "4  2005-05-02  04:00  1.2852  1.2859  1.2849  1.2855  0.451449        0.5   \n",
       "\n",
       "   month_cos  date_sin  date_cos  hour_sin      hour_cos  \n",
       "0  -0.866025  0.394356  0.918958  0.000000  1.000000e+00  \n",
       "1  -0.866025  0.394356  0.918958  0.500000  8.660254e-01  \n",
       "2  -0.866025  0.394356  0.918958  0.866025  5.000000e-01  \n",
       "3  -0.866025  0.394356  0.918958  1.000000  6.123234e-17  \n",
       "4  -0.866025  0.394356  0.918958  0.866025 -5.000000e-01  "
      ]
     },
     "execution_count": 19,
     "metadata": {},
     "output_type": "execute_result"
    }
   ],
   "source": [
    "datasets_hour.head()"
   ]
  },
  {
   "cell_type": "markdown",
   "id": "62e91c80",
   "metadata": {},
   "source": [
    "## <font color='red'>I will exclude the \"Date\" and \"Time\" columns from the dataset.</font>"
   ]
  },
  {
   "cell_type": "code",
   "execution_count": 20,
   "id": "6221d898",
   "metadata": {},
   "outputs": [],
   "source": [
    "datasets_hour = datasets_hour[datasets_hour.columns[2:]]"
   ]
  },
  {
   "cell_type": "code",
   "execution_count": 21,
   "id": "f9030b5f",
   "metadata": {
    "scrolled": true
   },
   "outputs": [
    {
     "data": {
      "text/html": [
       "<div>\n",
       "<style scoped>\n",
       "    .dataframe tbody tr th:only-of-type {\n",
       "        vertical-align: middle;\n",
       "    }\n",
       "\n",
       "    .dataframe tbody tr th {\n",
       "        vertical-align: top;\n",
       "    }\n",
       "\n",
       "    .dataframe thead th {\n",
       "        text-align: right;\n",
       "    }\n",
       "</style>\n",
       "<table border=\"1\" class=\"dataframe\">\n",
       "  <thead>\n",
       "    <tr style=\"text-align: right;\">\n",
       "      <th></th>\n",
       "      <th>BO</th>\n",
       "      <th>BH</th>\n",
       "      <th>BL</th>\n",
       "      <th>BC</th>\n",
       "      <th>Target</th>\n",
       "      <th>month_sin</th>\n",
       "      <th>month_cos</th>\n",
       "      <th>date_sin</th>\n",
       "      <th>date_cos</th>\n",
       "      <th>hour_sin</th>\n",
       "      <th>hour_cos</th>\n",
       "    </tr>\n",
       "  </thead>\n",
       "  <tbody>\n",
       "    <tr>\n",
       "      <th>0</th>\n",
       "      <td>1.2852</td>\n",
       "      <td>1.2852</td>\n",
       "      <td>1.2840</td>\n",
       "      <td>1.2844</td>\n",
       "      <td>0.449638</td>\n",
       "      <td>0.5</td>\n",
       "      <td>-0.866025</td>\n",
       "      <td>0.394356</td>\n",
       "      <td>0.918958</td>\n",
       "      <td>0.000000</td>\n",
       "      <td>1.000000e+00</td>\n",
       "    </tr>\n",
       "    <tr>\n",
       "      <th>1</th>\n",
       "      <td>1.2844</td>\n",
       "      <td>1.2848</td>\n",
       "      <td>1.2839</td>\n",
       "      <td>1.2842</td>\n",
       "      <td>0.469565</td>\n",
       "      <td>0.5</td>\n",
       "      <td>-0.866025</td>\n",
       "      <td>0.394356</td>\n",
       "      <td>0.918958</td>\n",
       "      <td>0.500000</td>\n",
       "      <td>8.660254e-01</td>\n",
       "    </tr>\n",
       "    <tr>\n",
       "      <th>2</th>\n",
       "      <td>1.2843</td>\n",
       "      <td>1.2854</td>\n",
       "      <td>1.2841</td>\n",
       "      <td>1.2851</td>\n",
       "      <td>0.453261</td>\n",
       "      <td>0.5</td>\n",
       "      <td>-0.866025</td>\n",
       "      <td>0.394356</td>\n",
       "      <td>0.918958</td>\n",
       "      <td>0.866025</td>\n",
       "      <td>5.000000e-01</td>\n",
       "    </tr>\n",
       "    <tr>\n",
       "      <th>3</th>\n",
       "      <td>1.2851</td>\n",
       "      <td>1.2859</td>\n",
       "      <td>1.2850</td>\n",
       "      <td>1.2851</td>\n",
       "      <td>0.460507</td>\n",
       "      <td>0.5</td>\n",
       "      <td>-0.866025</td>\n",
       "      <td>0.394356</td>\n",
       "      <td>0.918958</td>\n",
       "      <td>1.000000</td>\n",
       "      <td>6.123234e-17</td>\n",
       "    </tr>\n",
       "    <tr>\n",
       "      <th>4</th>\n",
       "      <td>1.2852</td>\n",
       "      <td>1.2859</td>\n",
       "      <td>1.2849</td>\n",
       "      <td>1.2855</td>\n",
       "      <td>0.451449</td>\n",
       "      <td>0.5</td>\n",
       "      <td>-0.866025</td>\n",
       "      <td>0.394356</td>\n",
       "      <td>0.918958</td>\n",
       "      <td>0.866025</td>\n",
       "      <td>-5.000000e-01</td>\n",
       "    </tr>\n",
       "  </tbody>\n",
       "</table>\n",
       "</div>"
      ],
      "text/plain": [
       "       BO      BH      BL      BC    Target  month_sin  month_cos  date_sin   \n",
       "0  1.2852  1.2852  1.2840  1.2844  0.449638        0.5  -0.866025  0.394356  \\\n",
       "1  1.2844  1.2848  1.2839  1.2842  0.469565        0.5  -0.866025  0.394356   \n",
       "2  1.2843  1.2854  1.2841  1.2851  0.453261        0.5  -0.866025  0.394356   \n",
       "3  1.2851  1.2859  1.2850  1.2851  0.460507        0.5  -0.866025  0.394356   \n",
       "4  1.2852  1.2859  1.2849  1.2855  0.451449        0.5  -0.866025  0.394356   \n",
       "\n",
       "   date_cos  hour_sin      hour_cos  \n",
       "0  0.918958  0.000000  1.000000e+00  \n",
       "1  0.918958  0.500000  8.660254e-01  \n",
       "2  0.918958  0.866025  5.000000e-01  \n",
       "3  0.918958  1.000000  6.123234e-17  \n",
       "4  0.918958  0.866025 -5.000000e-01  "
      ]
     },
     "execution_count": 21,
     "metadata": {},
     "output_type": "execute_result"
    }
   ],
   "source": [
    "datasets_hour.head()"
   ]
  },
  {
   "cell_type": "markdown",
   "id": "0191127c",
   "metadata": {},
   "source": [
    "## <font color='red'>Additionally, I would like to incorporate technical analysis data such as RSI (Relative Strength Index), EMA (Exponential Moving Average), etc. into our dataset.</font>"
   ]
  },
  {
   "cell_type": "code",
   "execution_count": 22,
   "id": "9d7a75d0",
   "metadata": {},
   "outputs": [],
   "source": [
    "datasets_hour['rsi'] = ta.rsi(datasets_hour.BC, length=20)\n",
    "datasets_hour['ema20'] = ta.ema(datasets_hour.BC, length=20)\n",
    "datasets_hour['ema100'] = ta.ema(datasets_hour.BC, length=100)\n",
    "datasets_hour['ema50'] = ta.ema(datasets_hour.BC, length=50)\n",
    "datasets_hour['ema200'] = ta.ema(datasets_hour.BC, length=200)\n",
    "datasets_hour['willr'] = ta.willr(datasets_hour.BH, datasets_hour.BL, datasets_hour.BC, length=20)\n",
    "datasets_hour = pd.concat([datasets_hour, ta.stochrsi(datasets_hour.BC, length=50, rsi_length=20)], axis=1)\n",
    "datasets_hour = pd.concat([datasets_hour, ta.bbands(datasets_hour.BH, length=20)], axis=1)              "
   ]
  },
  {
   "cell_type": "code",
   "execution_count": 23,
   "id": "35481460",
   "metadata": {
    "scrolled": true
   },
   "outputs": [
    {
     "data": {
      "text/html": [
       "<div>\n",
       "<style scoped>\n",
       "    .dataframe tbody tr th:only-of-type {\n",
       "        vertical-align: middle;\n",
       "    }\n",
       "\n",
       "    .dataframe tbody tr th {\n",
       "        vertical-align: top;\n",
       "    }\n",
       "\n",
       "    .dataframe thead th {\n",
       "        text-align: right;\n",
       "    }\n",
       "</style>\n",
       "<table border=\"1\" class=\"dataframe\">\n",
       "  <thead>\n",
       "    <tr style=\"text-align: right;\">\n",
       "      <th></th>\n",
       "      <th>BO</th>\n",
       "      <th>BH</th>\n",
       "      <th>BL</th>\n",
       "      <th>BC</th>\n",
       "      <th>Target</th>\n",
       "      <th>month_sin</th>\n",
       "      <th>month_cos</th>\n",
       "      <th>date_sin</th>\n",
       "      <th>date_cos</th>\n",
       "      <th>hour_sin</th>\n",
       "      <th>...</th>\n",
       "      <th>ema50</th>\n",
       "      <th>ema200</th>\n",
       "      <th>willr</th>\n",
       "      <th>STOCHRSIk_50_20_3_3</th>\n",
       "      <th>STOCHRSId_50_20_3_3</th>\n",
       "      <th>BBL_20_2.0</th>\n",
       "      <th>BBM_20_2.0</th>\n",
       "      <th>BBU_20_2.0</th>\n",
       "      <th>BBB_20_2.0</th>\n",
       "      <th>BBP_20_2.0</th>\n",
       "    </tr>\n",
       "  </thead>\n",
       "  <tbody>\n",
       "    <tr>\n",
       "      <th>0</th>\n",
       "      <td>1.2852</td>\n",
       "      <td>1.2852</td>\n",
       "      <td>1.2840</td>\n",
       "      <td>1.2844</td>\n",
       "      <td>0.449638</td>\n",
       "      <td>0.5</td>\n",
       "      <td>-0.866025</td>\n",
       "      <td>0.394356</td>\n",
       "      <td>0.918958</td>\n",
       "      <td>0.000000</td>\n",
       "      <td>...</td>\n",
       "      <td>NaN</td>\n",
       "      <td>NaN</td>\n",
       "      <td>NaN</td>\n",
       "      <td>NaN</td>\n",
       "      <td>NaN</td>\n",
       "      <td>NaN</td>\n",
       "      <td>NaN</td>\n",
       "      <td>NaN</td>\n",
       "      <td>NaN</td>\n",
       "      <td>NaN</td>\n",
       "    </tr>\n",
       "    <tr>\n",
       "      <th>1</th>\n",
       "      <td>1.2844</td>\n",
       "      <td>1.2848</td>\n",
       "      <td>1.2839</td>\n",
       "      <td>1.2842</td>\n",
       "      <td>0.469565</td>\n",
       "      <td>0.5</td>\n",
       "      <td>-0.866025</td>\n",
       "      <td>0.394356</td>\n",
       "      <td>0.918958</td>\n",
       "      <td>0.500000</td>\n",
       "      <td>...</td>\n",
       "      <td>NaN</td>\n",
       "      <td>NaN</td>\n",
       "      <td>NaN</td>\n",
       "      <td>NaN</td>\n",
       "      <td>NaN</td>\n",
       "      <td>NaN</td>\n",
       "      <td>NaN</td>\n",
       "      <td>NaN</td>\n",
       "      <td>NaN</td>\n",
       "      <td>NaN</td>\n",
       "    </tr>\n",
       "    <tr>\n",
       "      <th>2</th>\n",
       "      <td>1.2843</td>\n",
       "      <td>1.2854</td>\n",
       "      <td>1.2841</td>\n",
       "      <td>1.2851</td>\n",
       "      <td>0.453261</td>\n",
       "      <td>0.5</td>\n",
       "      <td>-0.866025</td>\n",
       "      <td>0.394356</td>\n",
       "      <td>0.918958</td>\n",
       "      <td>0.866025</td>\n",
       "      <td>...</td>\n",
       "      <td>NaN</td>\n",
       "      <td>NaN</td>\n",
       "      <td>NaN</td>\n",
       "      <td>NaN</td>\n",
       "      <td>NaN</td>\n",
       "      <td>NaN</td>\n",
       "      <td>NaN</td>\n",
       "      <td>NaN</td>\n",
       "      <td>NaN</td>\n",
       "      <td>NaN</td>\n",
       "    </tr>\n",
       "    <tr>\n",
       "      <th>3</th>\n",
       "      <td>1.2851</td>\n",
       "      <td>1.2859</td>\n",
       "      <td>1.2850</td>\n",
       "      <td>1.2851</td>\n",
       "      <td>0.460507</td>\n",
       "      <td>0.5</td>\n",
       "      <td>-0.866025</td>\n",
       "      <td>0.394356</td>\n",
       "      <td>0.918958</td>\n",
       "      <td>1.000000</td>\n",
       "      <td>...</td>\n",
       "      <td>NaN</td>\n",
       "      <td>NaN</td>\n",
       "      <td>NaN</td>\n",
       "      <td>NaN</td>\n",
       "      <td>NaN</td>\n",
       "      <td>NaN</td>\n",
       "      <td>NaN</td>\n",
       "      <td>NaN</td>\n",
       "      <td>NaN</td>\n",
       "      <td>NaN</td>\n",
       "    </tr>\n",
       "    <tr>\n",
       "      <th>4</th>\n",
       "      <td>1.2852</td>\n",
       "      <td>1.2859</td>\n",
       "      <td>1.2849</td>\n",
       "      <td>1.2855</td>\n",
       "      <td>0.451449</td>\n",
       "      <td>0.5</td>\n",
       "      <td>-0.866025</td>\n",
       "      <td>0.394356</td>\n",
       "      <td>0.918958</td>\n",
       "      <td>0.866025</td>\n",
       "      <td>...</td>\n",
       "      <td>NaN</td>\n",
       "      <td>NaN</td>\n",
       "      <td>NaN</td>\n",
       "      <td>NaN</td>\n",
       "      <td>NaN</td>\n",
       "      <td>NaN</td>\n",
       "      <td>NaN</td>\n",
       "      <td>NaN</td>\n",
       "      <td>NaN</td>\n",
       "      <td>NaN</td>\n",
       "    </tr>\n",
       "  </tbody>\n",
       "</table>\n",
       "<p>5 rows × 24 columns</p>\n",
       "</div>"
      ],
      "text/plain": [
       "       BO      BH      BL      BC    Target  month_sin  month_cos  date_sin   \n",
       "0  1.2852  1.2852  1.2840  1.2844  0.449638        0.5  -0.866025  0.394356  \\\n",
       "1  1.2844  1.2848  1.2839  1.2842  0.469565        0.5  -0.866025  0.394356   \n",
       "2  1.2843  1.2854  1.2841  1.2851  0.453261        0.5  -0.866025  0.394356   \n",
       "3  1.2851  1.2859  1.2850  1.2851  0.460507        0.5  -0.866025  0.394356   \n",
       "4  1.2852  1.2859  1.2849  1.2855  0.451449        0.5  -0.866025  0.394356   \n",
       "\n",
       "   date_cos  hour_sin  ...  ema50  ema200  willr  STOCHRSIk_50_20_3_3   \n",
       "0  0.918958  0.000000  ...    NaN     NaN    NaN                  NaN  \\\n",
       "1  0.918958  0.500000  ...    NaN     NaN    NaN                  NaN   \n",
       "2  0.918958  0.866025  ...    NaN     NaN    NaN                  NaN   \n",
       "3  0.918958  1.000000  ...    NaN     NaN    NaN                  NaN   \n",
       "4  0.918958  0.866025  ...    NaN     NaN    NaN                  NaN   \n",
       "\n",
       "   STOCHRSId_50_20_3_3  BBL_20_2.0  BBM_20_2.0  BBU_20_2.0  BBB_20_2.0   \n",
       "0                  NaN         NaN         NaN         NaN         NaN  \\\n",
       "1                  NaN         NaN         NaN         NaN         NaN   \n",
       "2                  NaN         NaN         NaN         NaN         NaN   \n",
       "3                  NaN         NaN         NaN         NaN         NaN   \n",
       "4                  NaN         NaN         NaN         NaN         NaN   \n",
       "\n",
       "   BBP_20_2.0  \n",
       "0         NaN  \n",
       "1         NaN  \n",
       "2         NaN  \n",
       "3         NaN  \n",
       "4         NaN  \n",
       "\n",
       "[5 rows x 24 columns]"
      ]
     },
     "execution_count": 23,
     "metadata": {},
     "output_type": "execute_result"
    }
   ],
   "source": [
    "datasets_hour.head()"
   ]
  },
  {
   "cell_type": "markdown",
   "id": "25088a4b",
   "metadata": {},
   "source": [
    "## <font color='red'>As we have added some technical analysis features, such as exponential moving average (EMA), RSI, etc., to our dataset, the first few data points in the dataset will be null due to the computation of these technical analysis indicators. Therefore, I will need to drop these rows from our dataset.</font>"
   ]
  },
  {
   "cell_type": "code",
   "execution_count": 24,
   "id": "d1f2504d",
   "metadata": {},
   "outputs": [],
   "source": [
    "datasets_hour.dropna(inplace=True)"
   ]
  },
  {
   "cell_type": "code",
   "execution_count": 25,
   "id": "4ca9641a",
   "metadata": {
    "scrolled": true
   },
   "outputs": [
    {
     "data": {
      "text/html": [
       "<div>\n",
       "<style scoped>\n",
       "    .dataframe tbody tr th:only-of-type {\n",
       "        vertical-align: middle;\n",
       "    }\n",
       "\n",
       "    .dataframe tbody tr th {\n",
       "        vertical-align: top;\n",
       "    }\n",
       "\n",
       "    .dataframe thead th {\n",
       "        text-align: right;\n",
       "    }\n",
       "</style>\n",
       "<table border=\"1\" class=\"dataframe\">\n",
       "  <thead>\n",
       "    <tr style=\"text-align: right;\">\n",
       "      <th></th>\n",
       "      <th>BO</th>\n",
       "      <th>BH</th>\n",
       "      <th>BL</th>\n",
       "      <th>BC</th>\n",
       "      <th>Target</th>\n",
       "      <th>month_sin</th>\n",
       "      <th>month_cos</th>\n",
       "      <th>date_sin</th>\n",
       "      <th>date_cos</th>\n",
       "      <th>hour_sin</th>\n",
       "      <th>...</th>\n",
       "      <th>ema50</th>\n",
       "      <th>ema200</th>\n",
       "      <th>willr</th>\n",
       "      <th>STOCHRSIk_50_20_3_3</th>\n",
       "      <th>STOCHRSId_50_20_3_3</th>\n",
       "      <th>BBL_20_2.0</th>\n",
       "      <th>BBM_20_2.0</th>\n",
       "      <th>BBU_20_2.0</th>\n",
       "      <th>BBB_20_2.0</th>\n",
       "      <th>BBP_20_2.0</th>\n",
       "    </tr>\n",
       "  </thead>\n",
       "  <tbody>\n",
       "    <tr>\n",
       "      <th>199</th>\n",
       "      <td>1.27570</td>\n",
       "      <td>1.27665</td>\n",
       "      <td>1.27420</td>\n",
       "      <td>1.27640</td>\n",
       "      <td>0.462319</td>\n",
       "      <td>0.5</td>\n",
       "      <td>-0.866025</td>\n",
       "      <td>0.651372</td>\n",
       "      <td>-0.758758</td>\n",
       "      <td>-0.500000</td>\n",
       "      <td>...</td>\n",
       "      <td>1.282787</td>\n",
       "      <td>1.287511</td>\n",
       "      <td>-84.561404</td>\n",
       "      <td>10.640978</td>\n",
       "      <td>16.742963</td>\n",
       "      <td>1.276901</td>\n",
       "      <td>1.281176</td>\n",
       "      <td>1.285450</td>\n",
       "      <td>0.667210</td>\n",
       "      <td>-0.029414</td>\n",
       "    </tr>\n",
       "    <tr>\n",
       "      <th>200</th>\n",
       "      <td>1.27630</td>\n",
       "      <td>1.27690</td>\n",
       "      <td>1.27530</td>\n",
       "      <td>1.27690</td>\n",
       "      <td>0.452355</td>\n",
       "      <td>0.5</td>\n",
       "      <td>-0.866025</td>\n",
       "      <td>0.651372</td>\n",
       "      <td>-0.758758</td>\n",
       "      <td>-0.866025</td>\n",
       "      <td>...</td>\n",
       "      <td>1.282556</td>\n",
       "      <td>1.287405</td>\n",
       "      <td>-70.747562</td>\n",
       "      <td>9.948728</td>\n",
       "      <td>11.517715</td>\n",
       "      <td>1.277435</td>\n",
       "      <td>1.280598</td>\n",
       "      <td>1.283761</td>\n",
       "      <td>0.494022</td>\n",
       "      <td>-0.084531</td>\n",
       "    </tr>\n",
       "    <tr>\n",
       "      <th>201</th>\n",
       "      <td>1.27690</td>\n",
       "      <td>1.27760</td>\n",
       "      <td>1.27650</td>\n",
       "      <td>1.27685</td>\n",
       "      <td>0.463225</td>\n",
       "      <td>0.5</td>\n",
       "      <td>-0.866025</td>\n",
       "      <td>0.651372</td>\n",
       "      <td>-0.758758</td>\n",
       "      <td>-1.000000</td>\n",
       "      <td>...</td>\n",
       "      <td>1.282333</td>\n",
       "      <td>1.287300</td>\n",
       "      <td>-71.289274</td>\n",
       "      <td>15.747383</td>\n",
       "      <td>12.112363</td>\n",
       "      <td>1.277015</td>\n",
       "      <td>1.280431</td>\n",
       "      <td>1.283846</td>\n",
       "      <td>0.533513</td>\n",
       "      <td>0.085655</td>\n",
       "    </tr>\n",
       "    <tr>\n",
       "      <th>202</th>\n",
       "      <td>1.27685</td>\n",
       "      <td>1.27760</td>\n",
       "      <td>1.27665</td>\n",
       "      <td>1.27740</td>\n",
       "      <td>0.443297</td>\n",
       "      <td>0.5</td>\n",
       "      <td>-0.866025</td>\n",
       "      <td>0.651372</td>\n",
       "      <td>-0.758758</td>\n",
       "      <td>-0.866025</td>\n",
       "      <td>...</td>\n",
       "      <td>1.282139</td>\n",
       "      <td>1.287202</td>\n",
       "      <td>-65.330444</td>\n",
       "      <td>19.658201</td>\n",
       "      <td>15.118104</td>\n",
       "      <td>1.276652</td>\n",
       "      <td>1.280224</td>\n",
       "      <td>1.283796</td>\n",
       "      <td>0.558058</td>\n",
       "      <td>0.132719</td>\n",
       "    </tr>\n",
       "    <tr>\n",
       "      <th>203</th>\n",
       "      <td>1.27740</td>\n",
       "      <td>1.27760</td>\n",
       "      <td>1.27630</td>\n",
       "      <td>1.27685</td>\n",
       "      <td>0.351449</td>\n",
       "      <td>0.5</td>\n",
       "      <td>-0.866025</td>\n",
       "      <td>0.651372</td>\n",
       "      <td>-0.758758</td>\n",
       "      <td>-0.500000</td>\n",
       "      <td>...</td>\n",
       "      <td>1.281932</td>\n",
       "      <td>1.287099</td>\n",
       "      <td>-71.289274</td>\n",
       "      <td>20.368496</td>\n",
       "      <td>18.591360</td>\n",
       "      <td>1.276387</td>\n",
       "      <td>1.279983</td>\n",
       "      <td>1.283578</td>\n",
       "      <td>0.561880</td>\n",
       "      <td>0.168727</td>\n",
       "    </tr>\n",
       "  </tbody>\n",
       "</table>\n",
       "<p>5 rows × 24 columns</p>\n",
       "</div>"
      ],
      "text/plain": [
       "          BO       BH       BL       BC    Target  month_sin  month_cos   \n",
       "199  1.27570  1.27665  1.27420  1.27640  0.462319        0.5  -0.866025  \\\n",
       "200  1.27630  1.27690  1.27530  1.27690  0.452355        0.5  -0.866025   \n",
       "201  1.27690  1.27760  1.27650  1.27685  0.463225        0.5  -0.866025   \n",
       "202  1.27685  1.27760  1.27665  1.27740  0.443297        0.5  -0.866025   \n",
       "203  1.27740  1.27760  1.27630  1.27685  0.351449        0.5  -0.866025   \n",
       "\n",
       "     date_sin  date_cos  hour_sin  ...     ema50    ema200      willr   \n",
       "199  0.651372 -0.758758 -0.500000  ...  1.282787  1.287511 -84.561404  \\\n",
       "200  0.651372 -0.758758 -0.866025  ...  1.282556  1.287405 -70.747562   \n",
       "201  0.651372 -0.758758 -1.000000  ...  1.282333  1.287300 -71.289274   \n",
       "202  0.651372 -0.758758 -0.866025  ...  1.282139  1.287202 -65.330444   \n",
       "203  0.651372 -0.758758 -0.500000  ...  1.281932  1.287099 -71.289274   \n",
       "\n",
       "     STOCHRSIk_50_20_3_3  STOCHRSId_50_20_3_3  BBL_20_2.0  BBM_20_2.0   \n",
       "199            10.640978            16.742963    1.276901    1.281176  \\\n",
       "200             9.948728            11.517715    1.277435    1.280598   \n",
       "201            15.747383            12.112363    1.277015    1.280431   \n",
       "202            19.658201            15.118104    1.276652    1.280224   \n",
       "203            20.368496            18.591360    1.276387    1.279983   \n",
       "\n",
       "     BBU_20_2.0  BBB_20_2.0  BBP_20_2.0  \n",
       "199    1.285450    0.667210   -0.029414  \n",
       "200    1.283761    0.494022   -0.084531  \n",
       "201    1.283846    0.533513    0.085655  \n",
       "202    1.283796    0.558058    0.132719  \n",
       "203    1.283578    0.561880    0.168727  \n",
       "\n",
       "[5 rows x 24 columns]"
      ]
     },
     "execution_count": 25,
     "metadata": {},
     "output_type": "execute_result"
    }
   ],
   "source": [
    "datasets_hour.head()"
   ]
  },
  {
   "cell_type": "markdown",
   "id": "614cdedf",
   "metadata": {},
   "source": [
    "## <font color='red'>Next, we will define the sequence and label for the prediction.</font>\n",
    "\n",
    "    In this approach, I will use a shortcut to map the dataset into a sequence array of IDs. This helps to minimize the time and memory required for formulating the dataset into a sequence from scratch, making the process more efficient."
   ]
  },
  {
   "cell_type": "code",
   "execution_count": 26,
   "id": "9c4c36ad",
   "metadata": {},
   "outputs": [],
   "source": [
    "SEQ = 10 # total sequence\n",
    "TARGET_NEXT = 1 # next 1/2/3 hour(s)\n",
    "dt_length = datasets_hour.shape[0] # total datasets\n",
    "TOTAL_DATASETS_TO_USE = (dt_length - (dt_length % (SEQ + 1))) - SEQ\n",
    "CHANNEL = datasets_hour.shape[1]"
   ]
  },
  {
   "cell_type": "code",
   "execution_count": 27,
   "id": "197f1c70",
   "metadata": {},
   "outputs": [
    {
     "data": {
      "text/plain": [
       "(10, 1, 92884, 92874, 24)"
      ]
     },
     "execution_count": 27,
     "metadata": {},
     "output_type": "execute_result"
    }
   ],
   "source": [
    "SEQ, TARGET_NEXT, dt_length, TOTAL_DATASETS_TO_USE, CHANNEL"
   ]
  },
  {
   "cell_type": "code",
   "execution_count": 28,
   "id": "0add39e6",
   "metadata": {
    "scrolled": true
   },
   "outputs": [
    {
     "data": {
      "text/plain": [
       "array([[    0,     1,     2, ...,     8,     9,    10],\n",
       "       [   10,    11,    12, ...,    18,    19,    20],\n",
       "       [   20,    21,    22, ...,    28,    29,    30],\n",
       "       ...,\n",
       "       [92850, 92851, 92852, ..., 92858, 92859, 92860],\n",
       "       [92860, 92861, 92862, ..., 92868, 92869, 92870],\n",
       "       [92870, 92871, 92872, ..., 92878, 92879, 92880]])"
      ]
     },
     "execution_count": 28,
     "metadata": {},
     "output_type": "execute_result"
    }
   ],
   "source": [
    "IDS = np.expand_dims(np.arange(0, TOTAL_DATASETS_TO_USE, SEQ), axis=1) + np.arange(0, SEQ + TARGET_NEXT)\n",
    "IDS"
   ]
  },
  {
   "cell_type": "code",
   "execution_count": 29,
   "id": "a05bba56",
   "metadata": {},
   "outputs": [
    {
     "data": {
      "text/plain": [
       "array([[    0,     1,     2, ...,     7,     8,     9],\n",
       "       [   10,    11,    12, ...,    17,    18,    19],\n",
       "       [   20,    21,    22, ...,    27,    28,    29],\n",
       "       ...,\n",
       "       [92850, 92851, 92852, ..., 92857, 92858, 92859],\n",
       "       [92860, 92861, 92862, ..., 92867, 92868, 92869],\n",
       "       [92870, 92871, 92872, ..., 92877, 92878, 92879]])"
      ]
     },
     "execution_count": 29,
     "metadata": {},
     "output_type": "execute_result"
    }
   ],
   "source": [
    "INP_IDS = IDS[:, :-TARGET_NEXT]\n",
    "INP_IDS"
   ]
  },
  {
   "cell_type": "code",
   "execution_count": 30,
   "id": "8a28e712",
   "metadata": {},
   "outputs": [
    {
     "data": {
      "text/plain": [
       "array([[   10],\n",
       "       [   20],\n",
       "       [   30],\n",
       "       ...,\n",
       "       [92860],\n",
       "       [92870],\n",
       "       [92880]])"
      ]
     },
     "execution_count": 30,
     "metadata": {},
     "output_type": "execute_result"
    }
   ],
   "source": [
    "LBL_IDS = IDS[:, -1:]\n",
    "LBL_IDS"
   ]
  },
  {
   "cell_type": "markdown",
   "id": "70192a12",
   "metadata": {},
   "source": [
    "## <font color='red'>Now we can use the ID sequence to map the dataset, separating it into input and label components.</font>\n",
    "    \n",
    "       In this scenario, I will attempt to predict the close prices."
   ]
  },
  {
   "cell_type": "code",
   "execution_count": 31,
   "id": "c753dd7f",
   "metadata": {},
   "outputs": [],
   "source": [
    "X = np.array(datasets_hour)[INP_IDS]\n",
    "Y = np.array(datasets_hour[[\"Target\"]])[LBL_IDS].flatten() # predict labels "
   ]
  },
  {
   "cell_type": "code",
   "execution_count": 32,
   "id": "134c289a",
   "metadata": {
    "scrolled": true
   },
   "outputs": [
    {
     "data": {
      "text/plain": [
       "((9288, 10, 24), (9288,))"
      ]
     },
     "execution_count": 32,
     "metadata": {},
     "output_type": "execute_result"
    }
   ],
   "source": [
    "X.shape, Y.shape"
   ]
  },
  {
   "cell_type": "markdown",
   "id": "f216ed21",
   "metadata": {},
   "source": [
    "## <font color='red'>We will normalize the values of our datasets to create a more generalized data for our model to learn from. This normalization process will also assist the model in making predictions that are more generalized, as it helps to scale the data to a consistent range.</font>"
   ]
  },
  {
   "cell_type": "code",
   "execution_count": 33,
   "id": "df39620d",
   "metadata": {
    "scrolled": true
   },
   "outputs": [],
   "source": [
    "standard_scaler = StandardScaler()\n",
    "standard_scaler.fit(np.reshape(X, (X.shape[0], -1)))\n",
    "X = np.reshape(standard_scaler.transform(np.reshape(X, (X.shape[0], -1))), X.shape)"
   ]
  },
  {
   "cell_type": "code",
   "execution_count": 34,
   "id": "e9261cbf",
   "metadata": {
    "scrolled": false
   },
   "outputs": [
    {
     "data": {
      "text/plain": [
       "array([[[ 7.88718692e-02,  7.82376105e-02,  7.49411770e-02,\n",
       "          8.43997720e-02,  3.05199040e-01,  7.16510266e-01,\n",
       "         -1.21581693e+00,  9.11132984e-01, -1.05091860e+00,\n",
       "         -7.08058769e-01, -1.22305749e+00, -1.36279068e+00,\n",
       "          1.14585288e-01,  1.47439275e-01,  1.34248253e-01,\n",
       "          1.70785606e-01, -1.18035483e+00, -1.34064169e+00,\n",
       "         -1.15214607e+00,  1.16451213e-01,  1.13480665e-01,\n",
       "          1.10469006e-01, -9.61923414e-02, -1.52609213e+00],\n",
       "        [ 8.35797208e-02,  8.00433257e-02,  8.37715657e-02,\n",
       "          8.82766568e-02, -4.85427943e-02,  7.16564426e-01,\n",
       "         -1.21590575e+00,  9.11100380e-01, -1.05098742e+00,\n",
       "         -1.22504163e+00, -7.05566076e-01, -1.21598460e+00,\n",
       "          1.12082876e-01,  1.46270501e-01,  1.32448412e-01,\n",
       "          1.69967118e-01, -7.10263729e-01, -1.36348047e+00,\n",
       "         -1.33120521e+00,  1.20639025e-01,  1.08953994e-01,\n",
       "          9.73328596e-02, -4.28889488e-01, -1.69545838e+00],\n",
       "        [ 8.82425619e-02,  8.54536275e-02,  9.29447284e-02,\n",
       "          8.76368640e-02,  3.48686136e-01,  7.16548715e-01,\n",
       "         -1.21559000e+00,  9.11114686e-01, -1.05125741e+00,\n",
       "         -1.41385357e+00,  8.46728775e-04, -1.22639561e+00,\n",
       "          1.09757398e-01,  1.45111972e-01,  1.30693714e-01,\n",
       "          1.69150239e-01, -7.36324288e-01, -1.17094222e+00,\n",
       "         -1.31140577e+00,  1.17353905e-01,  1.07651996e-01,\n",
       "          9.79931654e-02, -3.52650220e-01, -1.19501862e+00],\n",
       "        [ 8.76141417e-02,  8.52834881e-02,  9.40346712e-02,\n",
       "          9.18388743e-02, -3.50031760e-01,  7.16609316e-01,\n",
       "         -1.21593775e+00,  9.11349605e-01, -1.05135991e+00,\n",
       "         -1.22428132e+00,  7.06958694e-01, -1.05004477e+00,\n",
       "          1.08053733e-01,  1.44059764e-01,  1.29172783e-01,\n",
       "          1.68383463e-01, -5.29955504e-01, -1.03891498e+00,\n",
       "         -1.20928831e+00,  1.14511236e-01,  1.06043221e-01,\n",
       "          9.76049616e-02, -3.05751648e-01, -1.06759042e+00],\n",
       "        [ 9.18357583e-02,  8.52684491e-02,  9.12183491e-02,\n",
       "          8.76183954e-02, -3.64544198e+00,  7.16034533e-01,\n",
       "         -1.21598426e+00,  9.10924692e-01, -1.05145982e+00,\n",
       "         -7.06495116e-01,  1.22384744e+00, -1.15670117e+00,\n",
       "          1.06110244e-01,  1.42944641e-01,  1.27545831e-01,\n",
       "          1.67582138e-01, -7.32350931e-01, -1.01456966e+00,\n",
       "         -1.09117718e+00,  1.12442833e-01,  1.04159146e-01,\n",
       "          9.59050081e-02, -2.99675456e-01, -9.63113479e-01],\n",
       "        [ 8.76633289e-02,  8.27986297e-02,  3.79659197e-02,\n",
       "          4.35110766e-02, -1.21026527e-01,  7.15822785e-01,\n",
       "         -1.21612420e+00,  9.11030292e-01, -1.05130066e+00,\n",
       "         -1.57775141e-04,  1.41259869e+00, -2.00607270e+00,\n",
       "          1.00148570e-01,  1.40975928e-01,  1.24250609e-01,\n",
       "          1.66347708e-01, -1.23096139e+00, -1.20704074e+00,\n",
       "         -1.10374625e+00,  1.11464354e-01,  1.01744282e-01,\n",
       "          9.20732056e-02, -3.54899088e-01, -1.02434419e+00],\n",
       "        [ 4.43218625e-02,  4.40910237e-02,  4.67736689e-02,\n",
       "          4.19884178e-02,  1.30010688e-01,  7.16149827e-01,\n",
       "         -1.21623883e+00,  9.11289941e-01, -1.05124406e+00,\n",
       "          7.06654145e-01,  1.22344997e+00, -2.02325025e+00,\n",
       "          9.46100687e-02,  1.39016142e-01,  1.21025095e-01,\n",
       "          1.65110448e-01, -1.27985165e+00, -1.47638298e+00,\n",
       "         -1.25179523e+00,  9.86420473e-02,  9.81535594e-02,\n",
       "          9.76058849e-02, -1.51198292e-03, -2.18584332e+00],\n",
       "        [ 4.20051872e-02,  3.78964459e-02,  3.58162256e-02,\n",
       "          4.36112366e-02, -3.70929400e-01,  7.16320584e-01,\n",
       "         -1.21587848e+00,  9.11263533e-01, -1.05114433e+00,\n",
       "          1.22336380e+00,  7.06382328e-01, -1.95960882e+00,\n",
       "          8.97545611e-02,  1.37127702e-01,  1.17990328e-01,\n",
       "          1.63901933e-01, -1.15252424e+00, -1.67966743e+00,\n",
       "         -1.47668217e+00,  8.70135676e-02,  9.43663666e-02,\n",
       "          1.01568619e-01,  2.98807664e-01, -1.85792208e+00],\n",
       "        [ 4.28929499e-02,  4.27923375e-02,  4.52446414e-02,\n",
       "          3.91004039e-02, -1.29929293e-01,  7.16047690e-01,\n",
       "         -1.21623440e+00,  9.11188321e-01, -1.05116719e+00,\n",
       "          1.41214290e+00, -3.53468968e-05, -2.03439320e+00,\n",
       "          8.49310022e-02,  1.35186864e-01,  1.14897045e-01,\n",
       "          1.62660183e-01, -1.31872892e+00, -1.67900239e+00,\n",
       "         -1.63600885e+00,  7.88230719e-02,  9.09724265e-02,\n",
       "          1.02916809e-01,  4.81324136e-01, -1.43282543e+00],\n",
       "        [ 3.91094099e-02,  3.64952918e-02,  4.30640695e-02,\n",
       "          3.75210650e-02,  6.73082449e-02,  7.16263928e-01,\n",
       "         -1.21589531e+00,  9.11192682e-01, -1.05120669e+00,\n",
       "          1.22299943e+00, -7.06633747e-01, -2.06284573e+00,\n",
       "          8.04172400e-02,  1.33253503e-01,  1.11863678e-01,\n",
       "          1.61415248e-01, -1.37029562e+00, -1.68025725e+00,\n",
       "         -1.70478507e+00,  7.07379516e-02,  8.69767949e-02,\n",
       "          1.02966753e-01,  6.36062160e-01, -1.39319934e+00]]])"
      ]
     },
     "execution_count": 34,
     "metadata": {},
     "output_type": "execute_result"
    }
   ],
   "source": [
    "X[:1]"
   ]
  },
  {
   "cell_type": "markdown",
   "id": "56debaf1",
   "metadata": {},
   "source": [
    "## <font color='red'>Now we can proceed to split our dataset into training and testing subsets.</font>\n",
    "\n",
    "    Since this is time series data, we won't shuffle the data during the splitting process. Instead, we'll split the data based on a given percentage, taking data from the last point in the dataset up to the specified percentage."
   ]
  },
  {
   "cell_type": "code",
   "execution_count": 35,
   "id": "f1381649",
   "metadata": {},
   "outputs": [],
   "source": [
    "PERCENTAGE = 0.2"
   ]
  },
  {
   "cell_type": "code",
   "execution_count": 36,
   "id": "1f9a293a",
   "metadata": {},
   "outputs": [
    {
     "data": {
      "text/plain": [
       "(0.000854045220518029, 0.029224052089298447)"
      ]
     },
     "execution_count": 36,
     "metadata": {},
     "output_type": "execute_result"
    }
   ],
   "source": [
    "np.var(Y), np.std(Y)"
   ]
  },
  {
   "cell_type": "code",
   "execution_count": 37,
   "id": "0b8bad0f",
   "metadata": {},
   "outputs": [
    {
     "data": {
      "text/plain": [
       "(0.7599637681159439, 0.11811594202898623)"
      ]
     },
     "execution_count": 37,
     "metadata": {},
     "output_type": "execute_result"
    }
   ],
   "source": [
    "max(Y), min(Y)"
   ]
  },
  {
   "cell_type": "code",
   "execution_count": 38,
   "id": "7215a650",
   "metadata": {},
   "outputs": [],
   "source": [
    "x_train, y_train = X[:-int(X.shape[0] * PERCENTAGE)], Y[:-int(X.shape[0] * PERCENTAGE)] \n",
    "x_test, y_test = X[-int(X.shape[0] * PERCENTAGE):], Y[-int(X.shape[0] * PERCENTAGE):]"
   ]
  },
  {
   "cell_type": "code",
   "execution_count": 39,
   "id": "cbdef686",
   "metadata": {},
   "outputs": [
    {
     "data": {
      "text/plain": [
       "array([0.45326087, 0.4442029 , 0.48913043, ..., 0.44692029, 0.45833333,\n",
       "       0.44492754])"
      ]
     },
     "execution_count": 39,
     "metadata": {},
     "output_type": "execute_result"
    }
   ],
   "source": [
    "y_train"
   ]
  },
  {
   "cell_type": "code",
   "execution_count": 40,
   "id": "28c75005",
   "metadata": {},
   "outputs": [
    {
     "data": {
      "text/plain": [
       "((7431, 10, 24), (7431,), (1857, 10, 24), (1857,))"
      ]
     },
     "execution_count": 40,
     "metadata": {},
     "output_type": "execute_result"
    }
   ],
   "source": [
    "x_train.shape, y_train.shape, x_test.shape, y_test.shape"
   ]
  },
  {
   "cell_type": "code",
   "execution_count": 41,
   "id": "38de69a4",
   "metadata": {},
   "outputs": [
    {
     "name": "stderr",
     "output_type": "stream",
     "text": [
      "2023-05-17 13:40:51.406445: I tensorflow/core/common_runtime/gpu/gpu_device.cc:1635] Created device /job:localhost/replica:0/task:0/device:GPU:0 with 22244 MB memory:  -> device: 0, name: NVIDIA GeForce RTX 3090, pci bus id: 0000:65:00.0, compute capability: 8.6\n"
     ]
    }
   ],
   "source": [
    "train_ds = tf.data.Dataset.from_tensor_slices((x_train, y_train))\n",
    "test_ds = tf.data.Dataset.from_tensor_slices((x_test, y_test)) "
   ]
  },
  {
   "cell_type": "markdown",
   "id": "c39ec77e",
   "metadata": {},
   "source": [
    "## <font color='red'>I will now proceed to construct our model for training.</font>\n",
    "\n",
    "    For our model architecture, I will be using a simple transformer model that incorporates the MultiHeadAttention layer. The MultiHeadAttention layer is a key component of the transformer model, which allows the model to attend to different parts of the input sequence with multiple heads, or attention mechanisms, in parallel. This allows the model to capture complex dependencies and relationships within the input data, making it well-suited for tasks such as sequence prediction and language modeling."
   ]
  },
  {
   "cell_type": "code",
   "execution_count": 42,
   "id": "ab4947f3",
   "metadata": {
    "scrolled": true
   },
   "outputs": [
    {
     "name": "stdout",
     "output_type": "stream",
     "text": [
      "INFO:tensorflow:Mixed precision compatibility check (mixed_float16): OK\n",
      "Your GPU will likely run quickly with dtype policy mixed_float16 as it has compute capability of at least 7.0. Your GPU: NVIDIA GeForce RTX 3090, compute capability 8.6\n"
     ]
    }
   ],
   "source": [
    "tf.keras.mixed_precision.set_global_policy(\"mixed_float16\")"
   ]
  },
  {
   "cell_type": "code",
   "execution_count": 141,
   "id": "a0e06e1d",
   "metadata": {},
   "outputs": [],
   "source": [
    "def simple_transformer_model(id, x):\n",
    "    normalized = tf.keras.layers.LayerNormalization(epsilon=1e-6, name=f\"normalized_1_{id}\")(x)\n",
    "    masked_output = tf.keras.layers.MultiHeadAttention(num_heads=2, key_dim=128, name=f\"attention_{id}\")(normalized, normalized)  \n",
    "    x = tf.keras.layers.Add(name=f\"add_{id}\")([x, masked_output]) \n",
    "    x = tf.keras.layers.Conv1D(256, 1, activation='relu', name=f\"first_conv_{id}\")(x)  \n",
    "    return x"
   ]
  },
  {
   "cell_type": "code",
   "execution_count": 142,
   "id": "470ba496",
   "metadata": {},
   "outputs": [],
   "source": [
    "def create_model(num_transformer_blocks=1):\n",
    "    inputs = tf.keras.layers.Input(shape=(SEQ, CHANNEL)) \n",
    "    x = inputs\n",
    "    for _ in range(num_transformer_blocks):\n",
    "        x = simple_transformer_model(_, x) \n",
    "    \n",
    "    x = tf.keras.layers.Dense(256, activation=\"tanh\")(x)\n",
    "    x = tf.keras.layers.Dense(512, activation=\"tanh\")(x) \n",
    "    x = tf.keras.layers.Flatten()(x)\n",
    "    outputs = tf.keras.layers.Dense(1, activation=\"linear\", dtype=tf.float32)(x) \n",
    "    model = tf.keras.Model(inputs, outputs)\n",
    "    model.compile(loss=\"mse\", \n",
    "                  optimizer=tf.keras.optimizers.Adam(),\n",
    "                  metrics=[\"mse\"])\n",
    "    \n",
    "    return model"
   ]
  },
  {
   "cell_type": "code",
   "execution_count": 143,
   "id": "684f3a72",
   "metadata": {
    "scrolled": false
   },
   "outputs": [
    {
     "name": "stdout",
     "output_type": "stream",
     "text": [
      "Model: \"model_8\"\n",
      "__________________________________________________________________________________________________\n",
      " Layer (type)                   Output Shape         Param #     Connected to                     \n",
      "==================================================================================================\n",
      " input_9 (InputLayer)           [(None, 10, 24)]     0           []                               \n",
      "                                                                                                  \n",
      " normalized_1_0 (LayerNormaliza  (None, 10, 24)      48          ['input_9[0][0]']                \n",
      " tion)                                                                                            \n",
      "                                                                                                  \n",
      " attention_0 (MultiHeadAttentio  (None, 10, 24)      25368       ['normalized_1_0[0][0]',         \n",
      " n)                                                               'normalized_1_0[0][0]']         \n",
      "                                                                                                  \n",
      " add_0 (Add)                    (None, 10, 24)       0           ['input_9[0][0]',                \n",
      "                                                                  'attention_0[0][0]']            \n",
      "                                                                                                  \n",
      " first_conv_0 (Conv1D)          (None, 10, 256)      6400        ['add_0[0][0]']                  \n",
      "                                                                                                  \n",
      " dense_23 (Dense)               (None, 10, 256)      65792       ['first_conv_0[0][0]']           \n",
      "                                                                                                  \n",
      " dense_24 (Dense)               (None, 10, 512)      131584      ['dense_23[0][0]']               \n",
      "                                                                                                  \n",
      " flatten_5 (Flatten)            (None, 5120)         0           ['dense_24[0][0]']               \n",
      "                                                                                                  \n",
      " dense_25 (Dense)               (None, 1)            5121        ['flatten_5[0][0]']              \n",
      "                                                                                                  \n",
      "==================================================================================================\n",
      "Total params: 234,313\n",
      "Trainable params: 234,313\n",
      "Non-trainable params: 0\n",
      "__________________________________________________________________________________________________\n"
     ]
    }
   ],
   "source": [
    "model = create_model()\n",
    "model.summary()"
   ]
  },
  {
   "cell_type": "code",
   "execution_count": 144,
   "id": "f0722813",
   "metadata": {
    "scrolled": false
   },
   "outputs": [
    {
     "data": {
      "image/png": "[encoded data removed]",
      "text/plain": [
       "<IPython.core.display.Image object>"
      ]
     },
     "execution_count": 144,
     "metadata": {},
     "output_type": "execute_result"
    }
   ],
   "source": [
    "tf.keras.utils.plot_model(model)"
   ]
  },
  {
   "cell_type": "markdown",
   "id": "26560a7f",
   "metadata": {},
   "source": [
    "## <font color='red'>We will define callbacks for updating the learning rate, implementing early stopping if the model does not show improvement, and saving the model whenever there is a decrease in the training loss.</font>"
   ]
  },
  {
   "cell_type": "code",
   "execution_count": 145,
   "id": "1da72826",
   "metadata": {},
   "outputs": [],
   "source": [
    "class CustomLearningRateScheduler(tf.keras.callbacks.Callback):\n",
    "    def __init__(self, factor, patience, min_lr):\n",
    "        super(CustomLearningRateScheduler, self).__init__()\n",
    "        self.factor = factor\n",
    "        self.patience = patience\n",
    "        self.min_lr = min_lr\n",
    "        self.wait = 0\n",
    "        self.best_val_loss = float('inf')\n",
    "\n",
    "    def on_epoch_end(self, epoch, logs=None):\n",
    "        \n",
    "        # print('\\rlr_logs: ', logs, '\\r')\n",
    "        # print(\"\\rwait: \", self.wait, \"\\r\")\n",
    "        # print(\"\\rCurrent lr:\", tf.keras.backend.get_value(self.model.optimizer.lr), \"\\r\")\n",
    "        \n",
    "        current_val_loss = logs['val_loss'] \n",
    "        \n",
    "        if current_val_loss < self.best_val_loss:\n",
    "            self.best_val_loss = current_val_loss\n",
    "            self.wait = 0\n",
    "        else:\n",
    "            self.wait += 1\n",
    "            # print(\"\\rself.wait >= self.patience:\", self.wait >= self.patience, \"\\r\")\n",
    "            if self.wait >= self.patience:\n",
    "                old_lr = tf.keras.backend.get_value(self.model.optimizer.lr)\n",
    "                new_lr = old_lr * self.factor\n",
    "                \n",
    "                # print(\"\\rnew_lr >= self.min_lr:\", new_lr >= self.min_lr, \"\\r\")\n",
    "                if new_lr >= self.min_lr:\n",
    "                    # print(f'\\rEpoch {epoch+1}: Learning rate reduced to {new_lr} \\r')\n",
    "                    tf.keras.backend.set_value(self.model.optimizer.lr, new_lr) \n",
    "                else:\n",
    "                    # print(f'\\rEpoch {epoch+1}: Minimum learning rate reached\\r')\n",
    "                    pass\n",
    "                self.wait = 0\n",
    "                \n",
    "lr_callback = CustomLearningRateScheduler(factor=0.1, \n",
    "                                          patience=5,\n",
    "                                          min_lr=1e-7) "
   ]
  },
  {
   "cell_type": "code",
   "execution_count": 146,
   "id": "1456f2b8",
   "metadata": {},
   "outputs": [],
   "source": [
    "es_callback = tf.keras.callbacks.EarlyStopping(monitor=\"val_loss\",\n",
    "                                               patience=20, # Number of epochs with no improvement after which training will be stopped.\n",
    "                                               start_from_epoch=1,\n",
    "                                               mode=\"min\") # training will stop when the quantity monitored has stopped decreasing"
   ]
  },
  {
   "cell_type": "code",
   "execution_count": 147,
   "id": "23aa2bd7",
   "metadata": {},
   "outputs": [],
   "source": [
    "class ModelCheckpointCustom(tf.keras.callbacks.Callback):\n",
    "    \n",
    "    def __init__(self, model_path, save_best_only=False):\n",
    "        super(ModelCheckpointCustom, self).__init__()\n",
    "         \n",
    "        self.model_path = model_path\n",
    "        self.save_best_only = save_best_only\n",
    "        self.best_val_loss = float('inf') \n",
    "\n",
    "    def on_epoch_end(self, epoch, logs=None):\n",
    "        \n",
    "        # print('\\rlogs: ', logs, '\\r')\n",
    "        \n",
    "        current_val_loss = 0 if logs['val_loss'] is None else logs['val_loss']\n",
    "        \n",
    "        # print('\\rcurrent_val_loss: ', current_val_loss, '\\r')\n",
    "        # print('\\rsave_best_only: ', self.save_best_only, '\\r')\n",
    "        # print('\\rbest_val_loss: ', self.best_val_loss, '\\r')\n",
    "        # print('\\rcurrent_val_loss < best_val_loss: ', current_val_loss < self.best_val_loss, '\\r') \n",
    "        \n",
    "        if self.save_best_only and current_val_loss < self.best_val_loss:\n",
    "            # print('\\rSaving weights at (save_best_only=True): ', self.model_path, '\\r')\n",
    "            self.best_val_loss = current_val_loss \n",
    "            self.model.save_weights(self.model_path)\n",
    "            # print(\"\\rModel has been saved!\")\n",
    "        else:\n",
    "            # print('\\rSaving weights at (save_best_only=False): ', self.model_path, '\\r')\n",
    "            self.model.save_weights(self.model_path) \n",
    "            # print(\"\\rModel has been saved!\")\n",
    "\n",
    "save_callbacks = ModelCheckpointCustom(model_path='checkpoint/save-model/', save_best_only=True)"
   ]
  },
  {
   "cell_type": "markdown",
   "id": "8a21a736",
   "metadata": {},
   "source": [
    "## <font color='red'>Now, it is time to commence the training process of our model.</font>"
   ]
  },
  {
   "cell_type": "code",
   "execution_count": 148,
   "id": "a9b047f3",
   "metadata": {},
   "outputs": [],
   "source": [
    "BATCH_SIZE = 100\n",
    "\n",
    "train = train_ds.batch(BATCH_SIZE).prefetch(tf.data.AUTOTUNE).cache()\n",
    "test = test_ds.batch(BATCH_SIZE).prefetch(tf.data.AUTOTUNE)"
   ]
  },
  {
   "cell_type": "code",
   "execution_count": 149,
   "id": "67e73073",
   "metadata": {},
   "outputs": [
    {
     "data": {
      "text/plain": [
       "(750, 190)"
      ]
     },
     "execution_count": 149,
     "metadata": {},
     "output_type": "execute_result"
    }
   ],
   "source": [
    "len(train) * SEQ, len(test) * SEQ"
   ]
  },
  {
   "cell_type": "code",
   "execution_count": 150,
   "id": "0223cee6",
   "metadata": {},
   "outputs": [
    {
     "name": "stdout",
     "output_type": "stream",
     "text": [
      "(100, 10, 24) (100,)\n"
     ]
    },
    {
     "name": "stderr",
     "output_type": "stream",
     "text": [
      "2023-05-17 13:53:15.064810: I tensorflow/core/common_runtime/executor.cc:1197] [/device:CPU:0] (DEBUG INFO) Executor start aborting (this does not indicate an error and you can ignore this message): INVALID_ARGUMENT: You must feed a value for placeholder tensor 'Placeholder/_1' with dtype double and shape [7431]\n",
      "\t [[{{node Placeholder/_1}}]]\n",
      "2023-05-17 13:53:15.072267: W tensorflow/core/kernels/data/cache_dataset_ops.cc:856] The calling iterator did not fully read the dataset being cached. In order to avoid unexpected truncation of the dataset, the partially cached contents of the dataset  will be discarded. This can happen if you have an input pipeline similar to `dataset.cache().take(k).repeat()`. You should use `dataset.take(k).cache().repeat()` instead.\n"
     ]
    }
   ],
   "source": [
    "for x in train:\n",
    "    print(x[0].shape, x[1].shape)\n",
    "    break"
   ]
  },
  {
   "cell_type": "code",
   "execution_count": 151,
   "id": "8e6fefb5",
   "metadata": {
    "scrolled": false
   },
   "outputs": [
    {
     "name": "stdout",
     "output_type": "stream",
     "text": [
      "Epoch 1/50\n",
      "74/75 [============================>.] - ETA: 0s - loss: 0.2395 - mse: 0.2395"
     ]
    },
    {
     "name": "stderr",
     "output_type": "stream",
     "text": [
      "2023-05-17 13:53:17.798930: I tensorflow/core/common_runtime/executor.cc:1197] [/device:CPU:0] (DEBUG INFO) Executor start aborting (this does not indicate an error and you can ignore this message): INVALID_ARGUMENT: You must feed a value for placeholder tensor 'Placeholder/_1' with dtype double and shape [1857]\n",
      "\t [[{{node Placeholder/_1}}]]\n"
     ]
    },
    {
     "name": "stdout",
     "output_type": "stream",
     "text": [
      "75/75 [==============================] - 3s 18ms/step - loss: 0.2385 - mse: 0.2385 - val_loss: 0.0116 - val_mse: 0.0116\n",
      "Epoch 2/50\n",
      "75/75 [==============================] - 1s 12ms/step - loss: 0.0110 - mse: 0.0110 - val_loss: 0.0032 - val_mse: 0.0032\n",
      "Epoch 3/50\n",
      "75/75 [==============================] - 1s 12ms/step - loss: 0.0037 - mse: 0.0037 - val_loss: 0.0020 - val_mse: 0.0020\n",
      "Epoch 4/50\n",
      "75/75 [==============================] - 1s 12ms/step - loss: 0.0027 - mse: 0.0027 - val_loss: 0.0017 - val_mse: 0.0017\n",
      "Epoch 5/50\n",
      "75/75 [==============================] - 1s 12ms/step - loss: 0.0022 - mse: 0.0022 - val_loss: 0.0014 - val_mse: 0.0014\n",
      "Epoch 6/50\n",
      "75/75 [==============================] - 1s 12ms/step - loss: 0.0019 - mse: 0.0019 - val_loss: 0.0012 - val_mse: 0.0012\n",
      "Epoch 7/50\n",
      "75/75 [==============================] - 1s 12ms/step - loss: 0.0017 - mse: 0.0017 - val_loss: 0.0011 - val_mse: 0.0011\n",
      "Epoch 8/50\n",
      "75/75 [==============================] - 1s 12ms/step - loss: 0.0015 - mse: 0.0015 - val_loss: 0.0010 - val_mse: 0.0010\n",
      "Epoch 9/50\n",
      "75/75 [==============================] - 1s 12ms/step - loss: 0.0014 - mse: 0.0014 - val_loss: 0.0010 - val_mse: 0.0010\n",
      "Epoch 10/50\n",
      "75/75 [==============================] - 1s 12ms/step - loss: 0.0013 - mse: 0.0013 - val_loss: 0.0010 - val_mse: 0.0010\n",
      "Epoch 11/50\n",
      "75/75 [==============================] - 1s 12ms/step - loss: 0.0013 - mse: 0.0013 - val_loss: 9.9754e-04 - val_mse: 9.9754e-04\n",
      "Epoch 12/50\n",
      "75/75 [==============================] - 1s 12ms/step - loss: 0.0012 - mse: 0.0012 - val_loss: 0.0010 - val_mse: 0.0010\n",
      "Epoch 13/50\n",
      "75/75 [==============================] - 1s 12ms/step - loss: 0.0013 - mse: 0.0013 - val_loss: 0.0013 - val_mse: 0.0013\n",
      "Epoch 14/50\n",
      "75/75 [==============================] - 1s 12ms/step - loss: 0.0030 - mse: 0.0030 - val_loss: 0.0020 - val_mse: 0.0020\n",
      "Epoch 15/50\n",
      "75/75 [==============================] - 1s 12ms/step - loss: 0.0017 - mse: 0.0017 - val_loss: 0.0022 - val_mse: 0.0022\n",
      "Epoch 16/50\n",
      "75/75 [==============================] - 1s 12ms/step - loss: 0.0022 - mse: 0.0022 - val_loss: 0.0015 - val_mse: 0.0015\n",
      "Epoch 17/50\n",
      "75/75 [==============================] - 1s 12ms/step - loss: 0.0013 - mse: 0.0013 - val_loss: 8.8217e-04 - val_mse: 8.8217e-04\n",
      "Epoch 18/50\n",
      "75/75 [==============================] - 1s 12ms/step - loss: 0.0010 - mse: 0.0010 - val_loss: 8.2706e-04 - val_mse: 8.2706e-04\n",
      "Epoch 19/50\n",
      "75/75 [==============================] - 1s 12ms/step - loss: 9.7239e-04 - mse: 9.7239e-04 - val_loss: 8.0140e-04 - val_mse: 8.0140e-04\n",
      "Epoch 20/50\n",
      "75/75 [==============================] - 1s 12ms/step - loss: 9.4372e-04 - mse: 9.4372e-04 - val_loss: 7.8658e-04 - val_mse: 7.8658e-04\n",
      "Epoch 21/50\n",
      "75/75 [==============================] - 1s 12ms/step - loss: 9.2777e-04 - mse: 9.2777e-04 - val_loss: 7.7831e-04 - val_mse: 7.7831e-04\n",
      "Epoch 22/50\n",
      "75/75 [==============================] - 1s 12ms/step - loss: 9.1664e-04 - mse: 9.1664e-04 - val_loss: 7.7341e-04 - val_mse: 7.7341e-04\n",
      "Epoch 23/50\n",
      "75/75 [==============================] - 1s 12ms/step - loss: 9.0769e-04 - mse: 9.0769e-04 - val_loss: 7.6989e-04 - val_mse: 7.6989e-04\n",
      "Epoch 24/50\n",
      "75/75 [==============================] - 1s 12ms/step - loss: 8.9998e-04 - mse: 8.9998e-04 - val_loss: 7.6777e-04 - val_mse: 7.6777e-04\n",
      "Epoch 25/50\n",
      "75/75 [==============================] - 1s 12ms/step - loss: 8.9285e-04 - mse: 8.9285e-04 - val_loss: 7.6834e-04 - val_mse: 7.6834e-04\n",
      "Epoch 26/50\n",
      "75/75 [==============================] - 1s 12ms/step - loss: 8.8643e-04 - mse: 8.8643e-04 - val_loss: 7.6898e-04 - val_mse: 7.6898e-04\n",
      "Epoch 27/50\n",
      "75/75 [==============================] - 1s 12ms/step - loss: 8.8045e-04 - mse: 8.8045e-04 - val_loss: 7.7107e-04 - val_mse: 7.7107e-04\n",
      "Epoch 28/50\n",
      "75/75 [==============================] - 1s 12ms/step - loss: 8.7473e-04 - mse: 8.7473e-04 - val_loss: 7.7353e-04 - val_mse: 7.7353e-04\n",
      "Epoch 29/50\n",
      "75/75 [==============================] - 1s 12ms/step - loss: 8.6932e-04 - mse: 8.6932e-04 - val_loss: 7.7599e-04 - val_mse: 7.7599e-04\n",
      "Epoch 30/50\n",
      "75/75 [==============================] - 1s 12ms/step - loss: 8.9915e-04 - mse: 8.9915e-04 - val_loss: 7.4963e-04 - val_mse: 7.4963e-04\n",
      "Epoch 31/50\n",
      "75/75 [==============================] - 1s 12ms/step - loss: 8.4902e-04 - mse: 8.4902e-04 - val_loss: 7.4713e-04 - val_mse: 7.4713e-04\n",
      "Epoch 32/50\n",
      "75/75 [==============================] - 1s 12ms/step - loss: 8.4388e-04 - mse: 8.4388e-04 - val_loss: 7.4476e-04 - val_mse: 7.4476e-04\n",
      "Epoch 33/50\n",
      "75/75 [==============================] - 1s 12ms/step - loss: 8.4088e-04 - mse: 8.4088e-04 - val_loss: 7.4305e-04 - val_mse: 7.4305e-04\n",
      "Epoch 34/50\n",
      "75/75 [==============================] - 1s 12ms/step - loss: 8.3860e-04 - mse: 8.3860e-04 - val_loss: 7.4132e-04 - val_mse: 7.4132e-04\n",
      "Epoch 35/50\n",
      "75/75 [==============================] - 1s 12ms/step - loss: 8.3700e-04 - mse: 8.3700e-04 - val_loss: 7.3967e-04 - val_mse: 7.3967e-04\n",
      "Epoch 36/50\n",
      "75/75 [==============================] - 1s 12ms/step - loss: 8.3550e-04 - mse: 8.3550e-04 - val_loss: 7.3890e-04 - val_mse: 7.3890e-04\n",
      "Epoch 37/50\n",
      "75/75 [==============================] - 1s 12ms/step - loss: 8.3422e-04 - mse: 8.3422e-04 - val_loss: 7.3712e-04 - val_mse: 7.3712e-04\n",
      "Epoch 38/50\n",
      "75/75 [==============================] - 1s 12ms/step - loss: 8.3300e-04 - mse: 8.3300e-04 - val_loss: 7.3659e-04 - val_mse: 7.3659e-04\n",
      "Epoch 39/50\n",
      "75/75 [==============================] - 1s 12ms/step - loss: 8.3197e-04 - mse: 8.3197e-04 - val_loss: 7.3561e-04 - val_mse: 7.3561e-04\n",
      "Epoch 40/50\n",
      "75/75 [==============================] - 1s 12ms/step - loss: 8.3091e-04 - mse: 8.3091e-04 - val_loss: 7.3480e-04 - val_mse: 7.3480e-04\n",
      "Epoch 41/50\n",
      "75/75 [==============================] - 1s 12ms/step - loss: 8.3002e-04 - mse: 8.3002e-04 - val_loss: 7.3375e-04 - val_mse: 7.3375e-04\n",
      "Epoch 42/50\n",
      "75/75 [==============================] - 1s 12ms/step - loss: 8.2912e-04 - mse: 8.2912e-04 - val_loss: 7.3312e-04 - val_mse: 7.3312e-04\n",
      "Epoch 43/50\n",
      "75/75 [==============================] - 1s 12ms/step - loss: 8.2824e-04 - mse: 8.2824e-04 - val_loss: 7.3229e-04 - val_mse: 7.3229e-04\n",
      "Epoch 44/50\n",
      "75/75 [==============================] - 1s 12ms/step - loss: 8.2733e-04 - mse: 8.2733e-04 - val_loss: 7.3177e-04 - val_mse: 7.3177e-04\n",
      "Epoch 45/50\n",
      "75/75 [==============================] - 1s 12ms/step - loss: 8.2646e-04 - mse: 8.2646e-04 - val_loss: 7.3113e-04 - val_mse: 7.3113e-04\n",
      "Epoch 46/50\n",
      "75/75 [==============================] - 1s 12ms/step - loss: 8.2566e-04 - mse: 8.2566e-04 - val_loss: 7.3067e-04 - val_mse: 7.3067e-04\n",
      "Epoch 47/50\n",
      "75/75 [==============================] - 1s 12ms/step - loss: 8.2475e-04 - mse: 8.2475e-04 - val_loss: 7.2997e-04 - val_mse: 7.2997e-04\n",
      "Epoch 48/50\n",
      "75/75 [==============================] - 1s 12ms/step - loss: 8.2389e-04 - mse: 8.2389e-04 - val_loss: 7.2926e-04 - val_mse: 7.2926e-04\n",
      "Epoch 49/50\n",
      "75/75 [==============================] - 1s 12ms/step - loss: 8.2300e-04 - mse: 8.2300e-04 - val_loss: 7.2890e-04 - val_mse: 7.2890e-04\n",
      "Epoch 50/50\n",
      "75/75 [==============================] - 1s 12ms/step - loss: 8.2215e-04 - mse: 8.2215e-04 - val_loss: 7.2876e-04 - val_mse: 7.2876e-04\n"
     ]
    }
   ],
   "source": [
    "history = model.fit(train, epochs=50, verbose=1, validation_data=test, validation_steps=len(test) * 0.25, callbacks=[save_callbacks, es_callback, lr_callback])"
   ]
  },
  {
   "cell_type": "code",
   "execution_count": 152,
   "id": "ec0697cc",
   "metadata": {},
   "outputs": [
    {
     "name": "stdout",
     "output_type": "stream",
     "text": [
      "19/19 [==============================] - 0s 6ms/step - loss: 6.6797e-04 - mse: 6.6797e-04\n"
     ]
    },
    {
     "data": {
      "text/plain": [
       "[0.0006679650396108627, 0.0006679650396108627]"
      ]
     },
     "execution_count": 152,
     "metadata": {},
     "output_type": "execute_result"
    }
   ],
   "source": [
    "model.evaluate(test)"
   ]
  },
  {
   "cell_type": "markdown",
   "id": "167f4cf6",
   "metadata": {},
   "source": [
    "## <font color='red'>Evaluation of model performance.</font>"
   ]
  },
  {
   "cell_type": "code",
   "execution_count": 153,
   "id": "a86cb95c",
   "metadata": {},
   "outputs": [
    {
     "data": {
      "text/plain": [
       "(50,)"
      ]
     },
     "execution_count": 153,
     "metadata": {},
     "output_type": "execute_result"
    }
   ],
   "source": [
    "np.array(history.history['loss']).shape"
   ]
  },
  {
   "cell_type": "code",
   "execution_count": 154,
   "id": "33af22f2",
   "metadata": {
    "scrolled": false
   },
   "outputs": [
    {
     "data": {
      "text/plain": [
       "<Axes: >"
      ]
     },
     "execution_count": 154,
     "metadata": {},
     "output_type": "execute_result"
    },
    {
     "data": {
      "image/png": "[encoded data removed]",
      "text/plain": [
       "<Figure size 640x480 with 1 Axes>"
      ]
     },
     "metadata": {},
     "output_type": "display_data"
    }
   ],
   "source": [
    "pd.DataFrame(history.history).plot()"
   ]
  },
  {
   "cell_type": "markdown",
   "id": "73c37d4e",
   "metadata": {},
   "source": [
    "## <font color='red'>Since only the weights of our model are saved during training, we need to define the model architecture before loading the saved weights.</font>"
   ]
  },
  {
   "cell_type": "code",
   "execution_count": 155,
   "id": "fd34339f",
   "metadata": {
    "scrolled": true
   },
   "outputs": [
    {
     "data": {
      "text/plain": [
       "<tensorflow.python.checkpoint.checkpoint.CheckpointLoadStatus at 0x7f2fd175a460>"
      ]
     },
     "execution_count": 155,
     "metadata": {},
     "output_type": "execute_result"
    }
   ],
   "source": [
    "load_model = create_model()  \n",
    "load_model.load_weights(\"checkpoint/save-model/\")"
   ]
  },
  {
   "cell_type": "markdown",
   "id": "d3bc0f50",
   "metadata": {},
   "source": [
    "## <font color='red'>Now, let's assess the performance of our model using the testing data.</font>"
   ]
  },
  {
   "cell_type": "code",
   "execution_count": 156,
   "id": "44302b00",
   "metadata": {},
   "outputs": [
    {
     "name": "stdout",
     "output_type": "stream",
     "text": [
      "19/19 [==============================] - 0s 5ms/step - loss: 6.6797e-04 - mse: 6.6797e-04\n",
      "MSE: 0.0006679650396108627\n"
     ]
    }
   ],
   "source": [
    "performance = load_model.evaluate(test)\n",
    "print(\"MSE:\", performance[1])"
   ]
  },
  {
   "cell_type": "code",
   "execution_count": 157,
   "id": "54c5f55f",
   "metadata": {
    "scrolled": false
   },
   "outputs": [
    {
     "name": "stdout",
     "output_type": "stream",
     "text": [
      "19/19 [==============================] - 0s 4ms/step\n",
      "[[0.44567236]\n",
      " [0.47838932]\n",
      " [0.44503623]\n",
      " [0.43341675]\n",
      " [0.420125  ]\n",
      " [0.45259196]\n",
      " [0.42225313]\n",
      " [0.46612683]\n",
      " [0.4582906 ]\n",
      " [0.45179087]\n",
      " [0.4620697 ]\n",
      " [0.4496905 ]\n",
      " [0.4577187 ]\n",
      " [0.46542302]\n",
      " [0.43208236]\n",
      " [0.48715088]\n",
      " [0.45678312]\n",
      " [0.4774578 ]\n",
      " [0.48801026]\n",
      " [0.4539621 ]] [0.45326087 0.4442029  0.48913043 0.46322464 0.43423913 0.46231884\n",
      " 0.44148551 0.45380435 0.4548913  0.49764493 0.45416667 0.43876812\n",
      " 0.45869565 0.44057971 0.4384058  0.46594203 0.4423913  0.44257246\n",
      " 0.48677536 0.4384058 ]\n"
     ]
    }
   ],
   "source": [
    "y_pred = load_model.predict(test)\n",
    "print(y_pred[:20], y_train[:20])"
   ]
  },
  {
   "cell_type": "markdown",
   "id": "1ae94a84",
   "metadata": {},
   "source": [
    "## <font color='red'>In order to visualize the performance of our model in predicting the testing time series data, let's plot them all.</font>\n",
    "\n",
    "    \"We need to inverse the prediction values back to their original scale because during training, the values were normalized.\"\n",
    "    \n",
    "    \"After inverting the prediction values back to their original scale, we also need to add them to the input closing values to obtain the actual predicted future price values.\""
   ]
  },
  {
   "cell_type": "code",
   "execution_count": 158,
   "id": "6b5eddf2",
   "metadata": {},
   "outputs": [],
   "source": [
    "x_test_transform = np.reshape(standard_scaler.inverse_transform(np.reshape(x_test, (x_test.shape[0], -1))), x_test.shape)[:, :, :]\n",
    "results = pd.DataFrame()"
   ]
  },
  {
   "cell_type": "code",
   "execution_count": 159,
   "id": "e18abc99",
   "metadata": {},
   "outputs": [],
   "source": [
    "results[\"Open\"] = x_test_transform[:, -1, 0].flatten()\n",
    "results[\"High\"] = x_test_transform[:, -1, 1].flatten()\n",
    "results[\"Low\"] = x_test_transform[:, -1, 2].flatten()\n",
    "results[\"Close\"] = x_test_transform[:, -1, 3].flatten()\n",
    "results[\"y_test\"] = label_scale.inverse_transform(np.expand_dims(y_test, axis=1)).flatten()\n",
    "results[\"y_target\"] = results[\"Close\"] + results[\"y_test\"]\n",
    "results[\"y_pred\"] = results[\"Close\"] + label_scale.inverse_transform(y_pred).flatten()"
   ]
  },
  {
   "cell_type": "code",
   "execution_count": 160,
   "id": "f8ca7d96",
   "metadata": {
    "scrolled": true
   },
   "outputs": [
    {
     "data": {
      "text/html": [
       "<div>\n",
       "<style scoped>\n",
       "    .dataframe tbody tr th:only-of-type {\n",
       "        vertical-align: middle;\n",
       "    }\n",
       "\n",
       "    .dataframe tbody tr th {\n",
       "        vertical-align: top;\n",
       "    }\n",
       "\n",
       "    .dataframe thead th {\n",
       "        text-align: right;\n",
       "    }\n",
       "</style>\n",
       "<table border=\"1\" class=\"dataframe\">\n",
       "  <thead>\n",
       "    <tr style=\"text-align: right;\">\n",
       "      <th></th>\n",
       "      <th>Open</th>\n",
       "      <th>High</th>\n",
       "      <th>Low</th>\n",
       "      <th>Close</th>\n",
       "      <th>y_test</th>\n",
       "      <th>y_target</th>\n",
       "      <th>y_pred</th>\n",
       "    </tr>\n",
       "  </thead>\n",
       "  <tbody>\n",
       "    <tr>\n",
       "      <th>0</th>\n",
       "      <td>1.08846</td>\n",
       "      <td>1.09013</td>\n",
       "      <td>1.08828</td>\n",
       "      <td>1.09012</td>\n",
       "      <td>0.00007</td>\n",
       "      <td>1.09019</td>\n",
       "      <td>1.089701</td>\n",
       "    </tr>\n",
       "    <tr>\n",
       "      <th>1</th>\n",
       "      <td>1.09011</td>\n",
       "      <td>1.09030</td>\n",
       "      <td>1.08927</td>\n",
       "      <td>1.08942</td>\n",
       "      <td>-0.00014</td>\n",
       "      <td>1.08928</td>\n",
       "      <td>1.090807</td>\n",
       "    </tr>\n",
       "    <tr>\n",
       "      <th>2</th>\n",
       "      <td>1.08925</td>\n",
       "      <td>1.08929</td>\n",
       "      <td>1.08896</td>\n",
       "      <td>1.08902</td>\n",
       "      <td>0.00001</td>\n",
       "      <td>1.08903</td>\n",
       "      <td>1.088566</td>\n",
       "    </tr>\n",
       "    <tr>\n",
       "      <th>3</th>\n",
       "      <td>1.09086</td>\n",
       "      <td>1.09233</td>\n",
       "      <td>1.09085</td>\n",
       "      <td>1.09141</td>\n",
       "      <td>-0.00074</td>\n",
       "      <td>1.09067</td>\n",
       "      <td>1.090315</td>\n",
       "    </tr>\n",
       "    <tr>\n",
       "      <th>4</th>\n",
       "      <td>1.09082</td>\n",
       "      <td>1.09121</td>\n",
       "      <td>1.09038</td>\n",
       "      <td>1.09064</td>\n",
       "      <td>0.00033</td>\n",
       "      <td>1.09097</td>\n",
       "      <td>1.088811</td>\n",
       "    </tr>\n",
       "  </tbody>\n",
       "</table>\n",
       "</div>"
      ],
      "text/plain": [
       "      Open     High      Low    Close   y_test  y_target    y_pred\n",
       "0  1.08846  1.09013  1.08828  1.09012  0.00007   1.09019  1.089701\n",
       "1  1.09011  1.09030  1.08927  1.08942 -0.00014   1.08928  1.090807\n",
       "2  1.08925  1.08929  1.08896  1.08902  0.00001   1.08903  1.088566\n",
       "3  1.09086  1.09233  1.09085  1.09141 -0.00074   1.09067  1.090315\n",
       "4  1.09082  1.09121  1.09038  1.09064  0.00033   1.09097  1.088811"
      ]
     },
     "execution_count": 160,
     "metadata": {},
     "output_type": "execute_result"
    }
   ],
   "source": [
    "results.head()"
   ]
  },
  {
   "cell_type": "markdown",
   "id": "2236923e",
   "metadata": {},
   "source": [
    "## <font color='red'>This plot displays the graph of our prediction data in comparison to the target closing price of the next candle's closing price. It helps us visualize the accuracy of our predictions and how well they align with the actual closing price of the next candle.</font>\n",
    " \n",
    "     Please note that this plot only shows the predicted price of the top sequence in relation to its next candle's closing price."
   ]
  },
  {
   "cell_type": "code",
   "execution_count": 161,
   "id": "75d962d1",
   "metadata": {},
   "outputs": [
    {
     "data": {
      "text/plain": [
       "<matplotlib.legend.Legend at 0x7f2fd18f5a90>"
      ]
     },
     "execution_count": 161,
     "metadata": {},
     "output_type": "execute_result"
    },
    {
     "data": {
      "image/png": "[encoded data removed]",
      "text/plain": [
       "<Figure size 1000x500 with 1 Axes>"
      ]
     },
     "metadata": {},
     "output_type": "display_data"
    }
   ],
   "source": [
    "ROW_TO_SHOW = 100\n",
    "plt.figure(figsize=(10, 5))\n",
    "plt.plot(results[\"y_pred\"][-ROW_TO_SHOW:], c='red')\n",
    "plt.plot(results[\"y_target\"][-ROW_TO_SHOW:], c='green')\n",
    "plt.legend([\"Prediction\", \"Target\"])"
   ]
  },
  {
   "cell_type": "markdown",
   "id": "8398a461",
   "metadata": {},
   "source": [
    "## <font color='red'>In real market prediction, it's important to determine if our model is making accurate predictions by checking if our predicted price falls within the range of the highest and lowest price of the next candle. Let's visualize this comparison to gain insights.</font>\n",
    "\n",
    "    Please note that this plot only shows the predicted price of the top sequence in relation to its next candle's closing price.\n",
    "   "
   ]
  },
  {
   "cell_type": "code",
   "execution_count": 162,
   "id": "f35c8eff",
   "metadata": {
    "scrolled": false
   },
   "outputs": [
    {
     "data": {
      "text/plain": [
       "<matplotlib.legend.Legend at 0x7f2fc549c0d0>"
      ]
     },
     "execution_count": 162,
     "metadata": {},
     "output_type": "execute_result"
    },
    {
     "data": {
      "image/png": "[encoded data removed]",
      "text/plain": [
       "<Figure size 1000x500 with 1 Axes>"
      ]
     },
     "metadata": {},
     "output_type": "display_data"
    }
   ],
   "source": [
    "ROW_TO_SHOW = 50\n",
    "plt.figure(figsize=(10, 5))\n",
    "plt.plot(results[\"y_pred\"][-ROW_TO_SHOW:], c='red', linestyle=\"--\")\n",
    "plt.plot(results[\"High\"][-ROW_TO_SHOW:], c='Green')\n",
    "plt.plot(results[\"Low\"][-ROW_TO_SHOW:], c='Orange')\n",
    "plt.plot(results[\"Close\"][-ROW_TO_SHOW:], c='yellow')\n",
    "plt.legend([\"Prediction\", \"High\", \"Low\", \"Close\"])"
   ]
  },
  {
   "cell_type": "markdown",
   "id": "ab94e204",
   "metadata": {},
   "source": [
    "## <font color='red'>What if we plot the prediction values in a candlestick form? Since there may be a large amount of data, which could potentially consume a significant amount of memory, we could choose to plot only a subset of the data for visualization purposes.</font>\n",
    " \n",
    "     \"It's important to note that when visualizing the prediction values in a candlestick chart, I only plot the value at the last index of the sequence. As a result, there may be around (SEQ - 1) candlesticks that are not plotted, since they represent previous data points in the sequence.\"\n",
    "     \n",
    "     \"But, we cannot see the next candle, which represents future price predictions. Therefore, we won't know if our price prediction will be accurate or not.\""
   ]
  },
  {
   "cell_type": "code",
   "execution_count": 183,
   "id": "765adc7f",
   "metadata": {
    "scrolled": false
   },
   "outputs": [
    {
     "data": {
      "application/vnd.plotly.v1+json": {
       "config": {
        "plotlyServerURL": "https://plot.ly"
       },
       "data": [
        {
         "close": [
          1.08681,
          1.0855,
          1.0872,
          1.08453,
          1.08317,
          1.08538,
          1.0855,
          1.08135,
          1.08087,
          1.07936,
          1.07738,
          1.07648,
          1.08105,
          1.0846,
          1.08279,
          1.0824200000000002,
          1.08856,
          1.08189,
          1.08696,
          1.08625
         ],
         "high": [
          1.08732,
          1.08707,
          1.08838,
          1.08587,
          1.08378,
          1.08576,
          1.08729,
          1.08166,
          1.08113,
          1.08029,
          1.07794,
          1.07675,
          1.08126,
          1.08528,
          1.0842200000000002,
          1.08338,
          1.08878,
          1.082,
          1.08712,
          1.0867
         ],
         "low": [
          1.08635,
          1.08521,
          1.08683,
          1.08448,
          1.08247,
          1.08525,
          1.08522,
          1.08026,
          1.08072,
          1.07802,
          1.0773,
          1.07491,
          1.07962,
          1.08377,
          1.08273,
          1.08228,
          1.0878,
          1.08151,
          1.08446,
          1.08462
         ],
         "open": [
          1.08678,
          1.08705,
          1.08805,
          1.08555,
          1.08319,
          1.08548,
          1.08581,
          1.0815,
          1.08109,
          1.07875,
          1.0779299999999998,
          1.07555,
          1.07971,
          1.08377,
          1.08396,
          1.0832,
          1.08819,
          1.08158,
          1.08507,
          1.0847
         ],
         "type": "candlestick"
        },
        {
         "marker": {
          "size": 5,
          "symbol": "circle"
         },
         "mode": "markers",
         "name": "Last closing price",
         "type": "scatter",
         "y": [
          1.08681,
          1.0855,
          1.0872,
          1.08453,
          1.08317,
          1.08538,
          1.0855,
          1.08135,
          1.08087,
          1.07936,
          1.07738,
          1.07648,
          1.08105,
          1.0846,
          1.08279,
          1.0824200000000002,
          1.08856,
          1.08189,
          1.08696,
          1.08625
         ]
        },
        {
         "marker": {
          "size": 5,
          "symbol": "circle"
         },
         "mode": "markers",
         "name": "Prediction price",
         "type": "scatter",
         "y": [
          1.087396822628975,
          1.084426241067238,
          1.086227335026767,
          1.0856753005718067,
          1.083162460518115,
          1.0861322181840614,
          1.084296762782149,
          1.0814989084097557,
          1.080368295772355,
          1.079151536029079,
          1.076532091855649,
          1.0760587372754422,
          1.0811300154011814,
          1.0857723606148735,
          1.0836812314660846,
          1.0824663470278193,
          1.0896526774702966,
          1.0811541059216112,
          1.0856003280636295,
          1.0861336971644777
         ]
        }
       ],
       "layout": {
        "template": {
         "data": {
          "bar": [
           {
            "error_x": {
             "color": "#2a3f5f"
            },
            "error_y": {
             "color": "#2a3f5f"
            },
            "marker": {
             "line": {
              "color": "#E5ECF6",
              "width": 0.5
             },
             "pattern": {
              "fillmode": "overlay",
              "size": 10,
              "solidity": 0.2
             }
            },
            "type": "bar"
           }
          ],
          "barpolar": [
           {
            "marker": {
             "line": {
              "color": "#E5ECF6",
              "width": 0.5
             },
             "pattern": {
              "fillmode": "overlay",
              "size": 10,
              "solidity": 0.2
             }
            },
            "type": "barpolar"
           }
          ],
          "carpet": [
           {
            "aaxis": {
             "endlinecolor": "#2a3f5f",
             "gridcolor": "white",
             "linecolor": "white",
             "minorgridcolor": "white",
             "startlinecolor": "#2a3f5f"
            },
            "baxis": {
             "endlinecolor": "#2a3f5f",
             "gridcolor": "white",
             "linecolor": "white",
             "minorgridcolor": "white",
             "startlinecolor": "#2a3f5f"
            },
            "type": "carpet"
           }
          ],
          "choropleth": [
           {
            "colorbar": {
             "outlinewidth": 0,
             "ticks": ""
            },
            "type": "choropleth"
           }
          ],
          "contour": [
           {
            "colorbar": {
             "outlinewidth": 0,
             "ticks": ""
            },
            "colorscale": [
             [
              0,
              "#0d0887"
             ],
             [
              0.1111111111111111,
              "#46039f"
             ],
             [
              0.2222222222222222,
              "#7201a8"
             ],
             [
              0.3333333333333333,
              "#9c179e"
             ],
             [
              0.4444444444444444,
              "#bd3786"
             ],
             [
              0.5555555555555556,
              "#d8576b"
             ],
             [
              0.6666666666666666,
              "#ed7953"
             ],
             [
              0.7777777777777778,
              "#fb9f3a"
             ],
             [
              0.8888888888888888,
              "#fdca26"
             ],
             [
              1,
              "#f0f921"
             ]
            ],
            "type": "contour"
           }
          ],
          "contourcarpet": [
           {
            "colorbar": {
             "outlinewidth": 0,
             "ticks": ""
            },
            "type": "contourcarpet"
           }
          ],
          "heatmap": [
           {
            "colorbar": {
             "outlinewidth": 0,
             "ticks": ""
            },
            "colorscale": [
             [
              0,
              "#0d0887"
             ],
             [
              0.1111111111111111,
              "#46039f"
             ],
             [
              0.2222222222222222,
              "#7201a8"
             ],
             [
              0.3333333333333333,
              "#9c179e"
             ],
             [
              0.4444444444444444,
              "#bd3786"
             ],
             [
              0.5555555555555556,
              "#d8576b"
             ],
             [
              0.6666666666666666,
              "#ed7953"
             ],
             [
              0.7777777777777778,
              "#fb9f3a"
             ],
             [
              0.8888888888888888,
              "#fdca26"
             ],
             [
              1,
              "#f0f921"
             ]
            ],
            "type": "heatmap"
           }
          ],
          "heatmapgl": [
           {
            "colorbar": {
             "outlinewidth": 0,
             "ticks": ""
            },
            "colorscale": [
             [
              0,
              "#0d0887"
             ],
             [
              0.1111111111111111,
              "#46039f"
             ],
             [
              0.2222222222222222,
              "#7201a8"
             ],
             [
              0.3333333333333333,
              "#9c179e"
             ],
             [
              0.4444444444444444,
              "#bd3786"
             ],
             [
              0.5555555555555556,
              "#d8576b"
             ],
             [
              0.6666666666666666,
              "#ed7953"
             ],
             [
              0.7777777777777778,
              "#fb9f3a"
             ],
             [
              0.8888888888888888,
              "#fdca26"
             ],
             [
              1,
              "#f0f921"
             ]
            ],
            "type": "heatmapgl"
           }
          ],
          "histogram": [
           {
            "marker": {
             "pattern": {
              "fillmode": "overlay",
              "size": 10,
              "solidity": 0.2
             }
            },
            "type": "histogram"
           }
          ],
          "histogram2d": [
           {
            "colorbar": {
             "outlinewidth": 0,
             "ticks": ""
            },
            "colorscale": [
             [
              0,
              "#0d0887"
             ],
             [
              0.1111111111111111,
              "#46039f"
             ],
             [
              0.2222222222222222,
              "#7201a8"
             ],
             [
              0.3333333333333333,
              "#9c179e"
             ],
             [
              0.4444444444444444,
              "#bd3786"
             ],
             [
              0.5555555555555556,
              "#d8576b"
             ],
             [
              0.6666666666666666,
              "#ed7953"
             ],
             [
              0.7777777777777778,
              "#fb9f3a"
             ],
             [
              0.8888888888888888,
              "#fdca26"
             ],
             [
              1,
              "#f0f921"
             ]
            ],
            "type": "histogram2d"
           }
          ],
          "histogram2dcontour": [
           {
            "colorbar": {
             "outlinewidth": 0,
             "ticks": ""
            },
            "colorscale": [
             [
              0,
              "#0d0887"
             ],
             [
              0.1111111111111111,
              "#46039f"
             ],
             [
              0.2222222222222222,
              "#7201a8"
             ],
             [
              0.3333333333333333,
              "#9c179e"
             ],
             [
              0.4444444444444444,
              "#bd3786"
             ],
             [
              0.5555555555555556,
              "#d8576b"
             ],
             [
              0.6666666666666666,
              "#ed7953"
             ],
             [
              0.7777777777777778,
              "#fb9f3a"
             ],
             [
              0.8888888888888888,
              "#fdca26"
             ],
             [
              1,
              "#f0f921"
             ]
            ],
            "type": "histogram2dcontour"
           }
          ],
          "mesh3d": [
           {
            "colorbar": {
             "outlinewidth": 0,
             "ticks": ""
            },
            "type": "mesh3d"
           }
          ],
          "parcoords": [
           {
            "line": {
             "colorbar": {
              "outlinewidth": 0,
              "ticks": ""
             }
            },
            "type": "parcoords"
           }
          ],
          "pie": [
           {
            "automargin": true,
            "type": "pie"
           }
          ],
          "scatter": [
           {
            "fillpattern": {
             "fillmode": "overlay",
             "size": 10,
             "solidity": 0.2
            },
            "type": "scatter"
           }
          ],
          "scatter3d": [
           {
            "line": {
             "colorbar": {
              "outlinewidth": 0,
              "ticks": ""
             }
            },
            "marker": {
             "colorbar": {
              "outlinewidth": 0,
              "ticks": ""
             }
            },
            "type": "scatter3d"
           }
          ],
          "scattercarpet": [
           {
            "marker": {
             "colorbar": {
              "outlinewidth": 0,
              "ticks": ""
             }
            },
            "type": "scattercarpet"
           }
          ],
          "scattergeo": [
           {
            "marker": {
             "colorbar": {
              "outlinewidth": 0,
              "ticks": ""
             }
            },
            "type": "scattergeo"
           }
          ],
          "scattergl": [
           {
            "marker": {
             "colorbar": {
              "outlinewidth": 0,
              "ticks": ""
             }
            },
            "type": "scattergl"
           }
          ],
          "scattermapbox": [
           {
            "marker": {
             "colorbar": {
              "outlinewidth": 0,
              "ticks": ""
             }
            },
            "type": "scattermapbox"
           }
          ],
          "scatterpolar": [
           {
            "marker": {
             "colorbar": {
              "outlinewidth": 0,
              "ticks": ""
             }
            },
            "type": "scatterpolar"
           }
          ],
          "scatterpolargl": [
           {
            "marker": {
             "colorbar": {
              "outlinewidth": 0,
              "ticks": ""
             }
            },
            "type": "scatterpolargl"
           }
          ],
          "scatterternary": [
           {
            "marker": {
             "colorbar": {
              "outlinewidth": 0,
              "ticks": ""
             }
            },
            "type": "scatterternary"
           }
          ],
          "surface": [
           {
            "colorbar": {
             "outlinewidth": 0,
             "ticks": ""
            },
            "colorscale": [
             [
              0,
              "#0d0887"
             ],
             [
              0.1111111111111111,
              "#46039f"
             ],
             [
              0.2222222222222222,
              "#7201a8"
             ],
             [
              0.3333333333333333,
              "#9c179e"
             ],
             [
              0.4444444444444444,
              "#bd3786"
             ],
             [
              0.5555555555555556,
              "#d8576b"
             ],
             [
              0.6666666666666666,
              "#ed7953"
             ],
             [
              0.7777777777777778,
              "#fb9f3a"
             ],
             [
              0.8888888888888888,
              "#fdca26"
             ],
             [
              1,
              "#f0f921"
             ]
            ],
            "type": "surface"
           }
          ],
          "table": [
           {
            "cells": {
             "fill": {
              "color": "#EBF0F8"
             },
             "line": {
              "color": "white"
             }
            },
            "header": {
             "fill": {
              "color": "#C8D4E3"
             },
             "line": {
              "color": "white"
             }
            },
            "type": "table"
           }
          ]
         },
         "layout": {
          "annotationdefaults": {
           "arrowcolor": "#2a3f5f",
           "arrowhead": 0,
           "arrowwidth": 1
          },
          "autotypenumbers": "strict",
          "coloraxis": {
           "colorbar": {
            "outlinewidth": 0,
            "ticks": ""
           }
          },
          "colorscale": {
           "diverging": [
            [
             0,
             "#8e0152"
            ],
            [
             0.1,
             "#c51b7d"
            ],
            [
             0.2,
             "#de77ae"
            ],
            [
             0.3,
             "#f1b6da"
            ],
            [
             0.4,
             "#fde0ef"
            ],
            [
             0.5,
             "#f7f7f7"
            ],
            [
             0.6,
             "#e6f5d0"
            ],
            [
             0.7,
             "#b8e186"
            ],
            [
             0.8,
             "#7fbc41"
            ],
            [
             0.9,
             "#4d9221"
            ],
            [
             1,
             "#276419"
            ]
           ],
           "sequential": [
            [
             0,
             "#0d0887"
            ],
            [
             0.1111111111111111,
             "#46039f"
            ],
            [
             0.2222222222222222,
             "#7201a8"
            ],
            [
             0.3333333333333333,
             "#9c179e"
            ],
            [
             0.4444444444444444,
             "#bd3786"
            ],
            [
             0.5555555555555556,
             "#d8576b"
            ],
            [
             0.6666666666666666,
             "#ed7953"
            ],
            [
             0.7777777777777778,
             "#fb9f3a"
            ],
            [
             0.8888888888888888,
             "#fdca26"
            ],
            [
             1,
             "#f0f921"
            ]
           ],
           "sequentialminus": [
            [
             0,
             "#0d0887"
            ],
            [
             0.1111111111111111,
             "#46039f"
            ],
            [
             0.2222222222222222,
             "#7201a8"
            ],
            [
             0.3333333333333333,
             "#9c179e"
            ],
            [
             0.4444444444444444,
             "#bd3786"
            ],
            [
             0.5555555555555556,
             "#d8576b"
            ],
            [
             0.6666666666666666,
             "#ed7953"
            ],
            [
             0.7777777777777778,
             "#fb9f3a"
            ],
            [
             0.8888888888888888,
             "#fdca26"
            ],
            [
             1,
             "#f0f921"
            ]
           ]
          },
          "colorway": [
           "#636efa",
           "#EF553B",
           "#00cc96",
           "#ab63fa",
           "#FFA15A",
           "#19d3f3",
           "#FF6692",
           "#B6E880",
           "#FF97FF",
           "#FECB52"
          ],
          "font": {
           "color": "#2a3f5f"
          },
          "geo": {
           "bgcolor": "white",
           "lakecolor": "white",
           "landcolor": "#E5ECF6",
           "showlakes": true,
           "showland": true,
           "subunitcolor": "white"
          },
          "hoverlabel": {
           "align": "left"
          },
          "hovermode": "closest",
          "mapbox": {
           "style": "light"
          },
          "paper_bgcolor": "white",
          "plot_bgcolor": "#E5ECF6",
          "polar": {
           "angularaxis": {
            "gridcolor": "white",
            "linecolor": "white",
            "ticks": ""
           },
           "bgcolor": "#E5ECF6",
           "radialaxis": {
            "gridcolor": "white",
            "linecolor": "white",
            "ticks": ""
           }
          },
          "scene": {
           "xaxis": {
            "backgroundcolor": "#E5ECF6",
            "gridcolor": "white",
            "gridwidth": 2,
            "linecolor": "white",
            "showbackground": true,
            "ticks": "",
            "zerolinecolor": "white"
           },
           "yaxis": {
            "backgroundcolor": "#E5ECF6",
            "gridcolor": "white",
            "gridwidth": 2,
            "linecolor": "white",
            "showbackground": true,
            "ticks": "",
            "zerolinecolor": "white"
           },
           "zaxis": {
            "backgroundcolor": "#E5ECF6",
            "gridcolor": "white",
            "gridwidth": 2,
            "linecolor": "white",
            "showbackground": true,
            "ticks": "",
            "zerolinecolor": "white"
           }
          },
          "shapedefaults": {
           "line": {
            "color": "#2a3f5f"
           }
          },
          "ternary": {
           "aaxis": {
            "gridcolor": "white",
            "linecolor": "white",
            "ticks": ""
           },
           "baxis": {
            "gridcolor": "white",
            "linecolor": "white",
            "ticks": ""
           },
           "bgcolor": "#E5ECF6",
           "caxis": {
            "gridcolor": "white",
            "linecolor": "white",
            "ticks": ""
           }
          },
          "title": {
           "x": 0.05
          },
          "xaxis": {
           "automargin": true,
           "gridcolor": "white",
           "linecolor": "white",
           "ticks": "",
           "title": {
            "standoff": 15
           },
           "zerolinecolor": "white",
           "zerolinewidth": 2
          },
          "yaxis": {
           "automargin": true,
           "gridcolor": "white",
           "linecolor": "white",
           "ticks": "",
           "title": {
            "standoff": 15
           },
           "zerolinecolor": "white",
           "zerolinewidth": 2
          }
         }
        }
       }
      },
      "text/html": [
       "<div>                            <div id=\"3ed1c330-bfc9-4cba-9c97-30df63806910\" class=\"plotly-graph-div\" style=\"height:525px; width:100%;\"></div>            <script type=\"text/javascript\">                require([\"plotly\"], function(Plotly) {                    window.PLOTLYENV=window.PLOTLYENV || {};                                    if (document.getElementById(\"3ed1c330-bfc9-4cba-9c97-30df63806910\")) {                    Plotly.newPlot(                        \"3ed1c330-bfc9-4cba-9c97-30df63806910\",                        [{\"close\":[1.08681,1.0855,1.0872,1.08453,1.08317,1.08538,1.0855,1.08135,1.08087,1.07936,1.07738,1.07648,1.08105,1.0846,1.08279,1.0824200000000002,1.08856,1.08189,1.08696,1.08625],\"high\":[1.08732,1.08707,1.08838,1.08587,1.08378,1.08576,1.08729,1.08166,1.08113,1.08029,1.07794,1.07675,1.08126,1.08528,1.0842200000000002,1.08338,1.08878,1.082,1.08712,1.0867],\"low\":[1.08635,1.08521,1.08683,1.08448,1.08247,1.08525,1.08522,1.08026,1.08072,1.07802,1.0773,1.07491,1.07962,1.08377,1.08273,1.08228,1.0878,1.08151,1.08446,1.08462],\"open\":[1.08678,1.08705,1.08805,1.08555,1.08319,1.08548,1.08581,1.0815,1.08109,1.07875,1.0779299999999998,1.07555,1.07971,1.08377,1.08396,1.0832,1.08819,1.08158,1.08507,1.0847],\"type\":\"candlestick\"},{\"marker\":{\"size\":5,\"symbol\":\"circle\"},\"mode\":\"markers\",\"name\":\"Last closing price\",\"y\":[1.08681,1.0855,1.0872,1.08453,1.08317,1.08538,1.0855,1.08135,1.08087,1.07936,1.07738,1.07648,1.08105,1.0846,1.08279,1.0824200000000002,1.08856,1.08189,1.08696,1.08625],\"type\":\"scatter\"},{\"marker\":{\"size\":5,\"symbol\":\"circle\"},\"mode\":\"markers\",\"name\":\"Prediction price\",\"y\":[1.087396822628975,1.084426241067238,1.086227335026767,1.0856753005718067,1.083162460518115,1.0861322181840614,1.084296762782149,1.0814989084097557,1.080368295772355,1.079151536029079,1.076532091855649,1.0760587372754422,1.0811300154011814,1.0857723606148735,1.0836812314660846,1.0824663470278193,1.0896526774702966,1.0811541059216112,1.0856003280636295,1.0861336971644777],\"type\":\"scatter\"}],                        {\"template\":{\"data\":{\"histogram2dcontour\":[{\"type\":\"histogram2dcontour\",\"colorbar\":{\"outlinewidth\":0,\"ticks\":\"\"},\"colorscale\":[[0.0,\"#0d0887\"],[0.1111111111111111,\"#46039f\"],[0.2222222222222222,\"#7201a8\"],[0.3333333333333333,\"#9c179e\"],[0.4444444444444444,\"#bd3786\"],[0.5555555555555556,\"#d8576b\"],[0.6666666666666666,\"#ed7953\"],[0.7777777777777778,\"#fb9f3a\"],[0.8888888888888888,\"#fdca26\"],[1.0,\"#f0f921\"]]}],\"choropleth\":[{\"type\":\"choropleth\",\"colorbar\":{\"outlinewidth\":0,\"ticks\":\"\"}}],\"histogram2d\":[{\"type\":\"histogram2d\",\"colorbar\":{\"outlinewidth\":0,\"ticks\":\"\"},\"colorscale\":[[0.0,\"#0d0887\"],[0.1111111111111111,\"#46039f\"],[0.2222222222222222,\"#7201a8\"],[0.3333333333333333,\"#9c179e\"],[0.4444444444444444,\"#bd3786\"],[0.5555555555555556,\"#d8576b\"],[0.6666666666666666,\"#ed7953\"],[0.7777777777777778,\"#fb9f3a\"],[0.8888888888888888,\"#fdca26\"],[1.0,\"#f0f921\"]]}],\"heatmap\":[{\"type\":\"heatmap\",\"colorbar\":{\"outlinewidth\":0,\"ticks\":\"\"},\"colorscale\":[[0.0,\"#0d0887\"],[0.1111111111111111,\"#46039f\"],[0.2222222222222222,\"#7201a8\"],[0.3333333333333333,\"#9c179e\"],[0.4444444444444444,\"#bd3786\"],[0.5555555555555556,\"#d8576b\"],[0.6666666666666666,\"#ed7953\"],[0.7777777777777778,\"#fb9f3a\"],[0.8888888888888888,\"#fdca26\"],[1.0,\"#f0f921\"]]}],\"heatmapgl\":[{\"type\":\"heatmapgl\",\"colorbar\":{\"outlinewidth\":0,\"ticks\":\"\"},\"colorscale\":[[0.0,\"#0d0887\"],[0.1111111111111111,\"#46039f\"],[0.2222222222222222,\"#7201a8\"],[0.3333333333333333,\"#9c179e\"],[0.4444444444444444,\"#bd3786\"],[0.5555555555555556,\"#d8576b\"],[0.6666666666666666,\"#ed7953\"],[0.7777777777777778,\"#fb9f3a\"],[0.8888888888888888,\"#fdca26\"],[1.0,\"#f0f921\"]]}],\"contourcarpet\":[{\"type\":\"contourcarpet\",\"colorbar\":{\"outlinewidth\":0,\"ticks\":\"\"}}],\"contour\":[{\"type\":\"contour\",\"colorbar\":{\"outlinewidth\":0,\"ticks\":\"\"},\"colorscale\":[[0.0,\"#0d0887\"],[0.1111111111111111,\"#46039f\"],[0.2222222222222222,\"#7201a8\"],[0.3333333333333333,\"#9c179e\"],[0.4444444444444444,\"#bd3786\"],[0.5555555555555556,\"#d8576b\"],[0.6666666666666666,\"#ed7953\"],[0.7777777777777778,\"#fb9f3a\"],[0.8888888888888888,\"#fdca26\"],[1.0,\"#f0f921\"]]}],\"surface\":[{\"type\":\"surface\",\"colorbar\":{\"outlinewidth\":0,\"ticks\":\"\"},\"colorscale\":[[0.0,\"#0d0887\"],[0.1111111111111111,\"#46039f\"],[0.2222222222222222,\"#7201a8\"],[0.3333333333333333,\"#9c179e\"],[0.4444444444444444,\"#bd3786\"],[0.5555555555555556,\"#d8576b\"],[0.6666666666666666,\"#ed7953\"],[0.7777777777777778,\"#fb9f3a\"],[0.8888888888888888,\"#fdca26\"],[1.0,\"#f0f921\"]]}],\"mesh3d\":[{\"type\":\"mesh3d\",\"colorbar\":{\"outlinewidth\":0,\"ticks\":\"\"}}],\"scatter\":[{\"fillpattern\":{\"fillmode\":\"overlay\",\"size\":10,\"solidity\":0.2},\"type\":\"scatter\"}],\"parcoords\":[{\"type\":\"parcoords\",\"line\":{\"colorbar\":{\"outlinewidth\":0,\"ticks\":\"\"}}}],\"scatterpolargl\":[{\"type\":\"scatterpolargl\",\"marker\":{\"colorbar\":{\"outlinewidth\":0,\"ticks\":\"\"}}}],\"bar\":[{\"error_x\":{\"color\":\"#2a3f5f\"},\"error_y\":{\"color\":\"#2a3f5f\"},\"marker\":{\"line\":{\"color\":\"#E5ECF6\",\"width\":0.5},\"pattern\":{\"fillmode\":\"overlay\",\"size\":10,\"solidity\":0.2}},\"type\":\"bar\"}],\"scattergeo\":[{\"type\":\"scattergeo\",\"marker\":{\"colorbar\":{\"outlinewidth\":0,\"ticks\":\"\"}}}],\"scatterpolar\":[{\"type\":\"scatterpolar\",\"marker\":{\"colorbar\":{\"outlinewidth\":0,\"ticks\":\"\"}}}],\"histogram\":[{\"marker\":{\"pattern\":{\"fillmode\":\"overlay\",\"size\":10,\"solidity\":0.2}},\"type\":\"histogram\"}],\"scattergl\":[{\"type\":\"scattergl\",\"marker\":{\"colorbar\":{\"outlinewidth\":0,\"ticks\":\"\"}}}],\"scatter3d\":[{\"type\":\"scatter3d\",\"line\":{\"colorbar\":{\"outlinewidth\":0,\"ticks\":\"\"}},\"marker\":{\"colorbar\":{\"outlinewidth\":0,\"ticks\":\"\"}}}],\"scattermapbox\":[{\"type\":\"scattermapbox\",\"marker\":{\"colorbar\":{\"outlinewidth\":0,\"ticks\":\"\"}}}],\"scatterternary\":[{\"type\":\"scatterternary\",\"marker\":{\"colorbar\":{\"outlinewidth\":0,\"ticks\":\"\"}}}],\"scattercarpet\":[{\"type\":\"scattercarpet\",\"marker\":{\"colorbar\":{\"outlinewidth\":0,\"ticks\":\"\"}}}],\"carpet\":[{\"aaxis\":{\"endlinecolor\":\"#2a3f5f\",\"gridcolor\":\"white\",\"linecolor\":\"white\",\"minorgridcolor\":\"white\",\"startlinecolor\":\"#2a3f5f\"},\"baxis\":{\"endlinecolor\":\"#2a3f5f\",\"gridcolor\":\"white\",\"linecolor\":\"white\",\"minorgridcolor\":\"white\",\"startlinecolor\":\"#2a3f5f\"},\"type\":\"carpet\"}],\"table\":[{\"cells\":{\"fill\":{\"color\":\"#EBF0F8\"},\"line\":{\"color\":\"white\"}},\"header\":{\"fill\":{\"color\":\"#C8D4E3\"},\"line\":{\"color\":\"white\"}},\"type\":\"table\"}],\"barpolar\":[{\"marker\":{\"line\":{\"color\":\"#E5ECF6\",\"width\":0.5},\"pattern\":{\"fillmode\":\"overlay\",\"size\":10,\"solidity\":0.2}},\"type\":\"barpolar\"}],\"pie\":[{\"automargin\":true,\"type\":\"pie\"}]},\"layout\":{\"autotypenumbers\":\"strict\",\"colorway\":[\"#636efa\",\"#EF553B\",\"#00cc96\",\"#ab63fa\",\"#FFA15A\",\"#19d3f3\",\"#FF6692\",\"#B6E880\",\"#FF97FF\",\"#FECB52\"],\"font\":{\"color\":\"#2a3f5f\"},\"hovermode\":\"closest\",\"hoverlabel\":{\"align\":\"left\"},\"paper_bgcolor\":\"white\",\"plot_bgcolor\":\"#E5ECF6\",\"polar\":{\"bgcolor\":\"#E5ECF6\",\"angularaxis\":{\"gridcolor\":\"white\",\"linecolor\":\"white\",\"ticks\":\"\"},\"radialaxis\":{\"gridcolor\":\"white\",\"linecolor\":\"white\",\"ticks\":\"\"}},\"ternary\":{\"bgcolor\":\"#E5ECF6\",\"aaxis\":{\"gridcolor\":\"white\",\"linecolor\":\"white\",\"ticks\":\"\"},\"baxis\":{\"gridcolor\":\"white\",\"linecolor\":\"white\",\"ticks\":\"\"},\"caxis\":{\"gridcolor\":\"white\",\"linecolor\":\"white\",\"ticks\":\"\"}},\"coloraxis\":{\"colorbar\":{\"outlinewidth\":0,\"ticks\":\"\"}},\"colorscale\":{\"sequential\":[[0.0,\"#0d0887\"],[0.1111111111111111,\"#46039f\"],[0.2222222222222222,\"#7201a8\"],[0.3333333333333333,\"#9c179e\"],[0.4444444444444444,\"#bd3786\"],[0.5555555555555556,\"#d8576b\"],[0.6666666666666666,\"#ed7953\"],[0.7777777777777778,\"#fb9f3a\"],[0.8888888888888888,\"#fdca26\"],[1.0,\"#f0f921\"]],\"sequentialminus\":[[0.0,\"#0d0887\"],[0.1111111111111111,\"#46039f\"],[0.2222222222222222,\"#7201a8\"],[0.3333333333333333,\"#9c179e\"],[0.4444444444444444,\"#bd3786\"],[0.5555555555555556,\"#d8576b\"],[0.6666666666666666,\"#ed7953\"],[0.7777777777777778,\"#fb9f3a\"],[0.8888888888888888,\"#fdca26\"],[1.0,\"#f0f921\"]],\"diverging\":[[0,\"#8e0152\"],[0.1,\"#c51b7d\"],[0.2,\"#de77ae\"],[0.3,\"#f1b6da\"],[0.4,\"#fde0ef\"],[0.5,\"#f7f7f7\"],[0.6,\"#e6f5d0\"],[0.7,\"#b8e186\"],[0.8,\"#7fbc41\"],[0.9,\"#4d9221\"],[1,\"#276419\"]]},\"xaxis\":{\"gridcolor\":\"white\",\"linecolor\":\"white\",\"ticks\":\"\",\"title\":{\"standoff\":15},\"zerolinecolor\":\"white\",\"automargin\":true,\"zerolinewidth\":2},\"yaxis\":{\"gridcolor\":\"white\",\"linecolor\":\"white\",\"ticks\":\"\",\"title\":{\"standoff\":15},\"zerolinecolor\":\"white\",\"automargin\":true,\"zerolinewidth\":2},\"scene\":{\"xaxis\":{\"backgroundcolor\":\"#E5ECF6\",\"gridcolor\":\"white\",\"linecolor\":\"white\",\"showbackground\":true,\"ticks\":\"\",\"zerolinecolor\":\"white\",\"gridwidth\":2},\"yaxis\":{\"backgroundcolor\":\"#E5ECF6\",\"gridcolor\":\"white\",\"linecolor\":\"white\",\"showbackground\":true,\"ticks\":\"\",\"zerolinecolor\":\"white\",\"gridwidth\":2},\"zaxis\":{\"backgroundcolor\":\"#E5ECF6\",\"gridcolor\":\"white\",\"linecolor\":\"white\",\"showbackground\":true,\"ticks\":\"\",\"zerolinecolor\":\"white\",\"gridwidth\":2}},\"shapedefaults\":{\"line\":{\"color\":\"#2a3f5f\"}},\"annotationdefaults\":{\"arrowcolor\":\"#2a3f5f\",\"arrowhead\":0,\"arrowwidth\":1},\"geo\":{\"bgcolor\":\"white\",\"landcolor\":\"#E5ECF6\",\"subunitcolor\":\"white\",\"showland\":true,\"showlakes\":true,\"lakecolor\":\"white\"},\"title\":{\"x\":0.05},\"mapbox\":{\"style\":\"light\"}}}},                        {\"responsive\": true}                    ).then(function(){\n",
       "                            \n",
       "var gd = document.getElementById('3ed1c330-bfc9-4cba-9c97-30df63806910');\n",
       "var x = new MutationObserver(function (mutations, observer) {{\n",
       "        var display = window.getComputedStyle(gd).display;\n",
       "        if (!display || display === 'none') {{\n",
       "            console.log([gd, 'removed!']);\n",
       "            Plotly.purge(gd);\n",
       "            observer.disconnect();\n",
       "        }}\n",
       "}});\n",
       "\n",
       "// Listen for the removal of the full notebook cells\n",
       "var notebookContainer = gd.closest('#notebook-container');\n",
       "if (notebookContainer) {{\n",
       "    x.observe(notebookContainer, {childList: true});\n",
       "}}\n",
       "\n",
       "// Listen for the clearing of the current output cell\n",
       "var outputEl = gd.closest('.output');\n",
       "if (outputEl) {{\n",
       "    x.observe(outputEl, {childList: true});\n",
       "}}\n",
       "\n",
       "                        })                };                });            </script>        </div>"
      ]
     },
     "metadata": {},
     "output_type": "display_data"
    }
   ],
   "source": [
    "fig = go.Figure()\n",
    "fig.add_trace(go.Candlestick( \n",
    "                open=x_test_transform[:, -1, 0].flatten()[-20:],\n",
    "                high=x_test_transform[:, -1, 1].flatten()[-20:],\n",
    "                low=x_test_transform[:, -1, 2].flatten()[-20:],\n",
    "                close=x_test_transform[:, -1, 3].flatten()[-20:])) \n",
    "fig.add_trace(go.Scatter(\n",
    "                y=x_test_transform[:, -1, 3].flatten()[-20:],\n",
    "                mode='markers',\n",
    "                marker=dict(symbol='circle', size=5),   \n",
    "                name='Last closing price'))\n",
    "\n",
    "fig.add_trace(go.Scatter(\n",
    "                y=results[\"y_pred\"][-20:],\n",
    "                mode='markers',\n",
    "                marker=dict(symbol='circle', size=5),   \n",
    "                name='Prediction price')) "
   ]
  },
  {
   "cell_type": "markdown",
   "id": "c641242d",
   "metadata": {},
   "source": [
    "# <font color='blue'>There is no guaranteed way to predict the market accurately, whether through fundamental analysis, technical analysis, or even machine learning approaches. This project is solely for learning purposes and aims to explore time series data prediction. Regardless, I hope you have gained valuable insights from this project.</font>"
   ]
  },
  {
   "cell_type": "code",
   "execution_count": null,
   "id": "bc087d5c",
   "metadata": {},
   "outputs": [],
   "source": []
  }
 ],
 "metadata": {
  "kernelspec": {
   "display_name": "Python 3 (ipykernel)",
   "language": "python",
   "name": "python3"
  },
  "language_info": {
   "codemirror_mode": {
    "name": "ipython",
    "version": 3
   },
   "file_extension": ".py",
   "mimetype": "text/x-python",
   "name": "python",
   "nbconvert_exporter": "python",
   "pygments_lexer": "ipython3",
   "version": "3.8.10"
  }
 },
 "nbformat": 4,
 "nbformat_minor": 5
}
