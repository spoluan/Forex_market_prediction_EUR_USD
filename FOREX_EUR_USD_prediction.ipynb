{
 "cells": [
  {
   "cell_type": "markdown",
   "id": "a41c26c9",
   "metadata": {},
   "source": [
    "# Sevendi Eldrige Rifki Poluan🔥🔥🔥\n",
    "### Descriptions: Regression Fundamental"
   ]
  },
  {
   "cell_type": "code",
   "execution_count": 1,
   "id": "1eeeffcb",
   "metadata": {
    "scrolled": true
   },
   "outputs": [
    {
     "name": "stdout",
     "output_type": "stream",
     "text": [
      "Mon Apr 10 06:48:47 2023       \r\n",
      "+---------------------------------------------------------------------------------------+\r\n",
      "| NVIDIA-SMI 530.30.02              Driver Version: 530.30.02    CUDA Version: 12.1     |\r\n",
      "|-----------------------------------------+----------------------+----------------------+\r\n",
      "| GPU  Name                  Persistence-M| Bus-Id        Disp.A | Volatile Uncorr. ECC |\r\n",
      "| Fan  Temp  Perf            Pwr:Usage/Cap|         Memory-Usage | GPU-Util  Compute M. |\r\n",
      "|                                         |                      |               MIG M. |\r\n",
      "|=========================================+======================+======================|\r\n",
      "|   0  NVIDIA GeForce RTX 3090         On | 00000000:65:00.0 Off |                  N/A |\r\n",
      "| 56%   44C    P5               44W / 390W|  24029MiB / 24576MiB |      0%      Default |\r\n",
      "|                                         |                      |                  N/A |\r\n",
      "+-----------------------------------------+----------------------+----------------------+\r\n",
      "                                                                                         \r\n",
      "+---------------------------------------------------------------------------------------+\r\n",
      "| Processes:                                                                            |\r\n",
      "|  GPU   GI   CI        PID   Type   Process name                            GPU Memory |\r\n",
      "|        ID   ID                                                             Usage      |\r\n",
      "|=======================================================================================|\r\n",
      "+---------------------------------------------------------------------------------------+\r\n"
     ]
    }
   ],
   "source": [
    "# working environment\n",
    "!nvidia-smi"
   ]
  },
  {
   "cell_type": "markdown",
   "id": "c5b68208",
   "metadata": {},
   "source": [
    "## <font color='red'>Import the necessary libraries</font>"
   ]
  },
  {
   "cell_type": "code",
   "execution_count": 2,
   "id": "dff4a9e1",
   "metadata": {
    "scrolled": true
   },
   "outputs": [
    {
     "name": "stderr",
     "output_type": "stream",
     "text": [
      "2023-04-10 07:12:27.294271: I tensorflow/core/util/port.cc:110] oneDNN custom operations are on. You may see slightly different numerical results due to floating-point round-off errors from different computation orders. To turn them off, set the environment variable `TF_ENABLE_ONEDNN_OPTS=0`.\n",
      "2023-04-10 07:12:27.332264: I tensorflow/core/platform/cpu_feature_guard.cc:182] This TensorFlow binary is optimized to use available CPU instructions in performance-critical operations.\n",
      "To enable the following instructions: AVX2 AVX512F AVX512_VNNI FMA, in other operations, rebuild TensorFlow with the appropriate compiler flags.\n"
     ]
    }
   ],
   "source": [
    "import tensorflow as tf\n",
    "import pandas as pd\n",
    "import numpy as np\n",
    "import os  \n",
    "import time "
   ]
  },
  {
   "cell_type": "markdown",
   "id": "9ce022c8",
   "metadata": {},
   "source": [
    "## <font color='red'>In this experiment, I will perform basic regression on time series data using forex market EUR_USD data from 2002 to 2020. The dataset was obtained from [Kaggle](https://www.kaggle.com/datasets/imetomi/eur-usd-forex-pair-historical-data-2002-2019?resource=download), where you can also access and download the dataset.</font>"
   ]
  },
  {
   "cell_type": "code",
   "execution_count": 3,
   "id": "56cb4bb7",
   "metadata": {},
   "outputs": [
    {
     "name": "stdout",
     "output_type": "stream",
     "text": [
      "FOREX_EUR_USD_prediction.ipynb\tarchive.zip\r\n"
     ]
    }
   ],
   "source": [
    "!ls"
   ]
  },
  {
   "cell_type": "code",
   "execution_count": 4,
   "id": "7e763c09",
   "metadata": {
    "scrolled": false
   },
   "outputs": [
    {
     "name": "stdout",
     "output_type": "stream",
     "text": [
      "Archive:  archive.zip\n",
      "  inflating: eurusd_hour.csv         \n",
      "  inflating: eurusd_minute.csv       \n",
      "  inflating: eurusd_news.csv         \n"
     ]
    }
   ],
   "source": [
    "!unzip -o archive.zip"
   ]
  },
  {
   "cell_type": "code",
   "execution_count": 5,
   "id": "22db97de",
   "metadata": {
    "scrolled": true
   },
   "outputs": [
    {
     "name": "stdout",
     "output_type": "stream",
     "text": [
      "FOREX_EUR_USD_prediction.ipynb\teurusd_hour.csv    eurusd_news.csv\r\n",
      "archive.zip\t\t\teurusd_minute.csv\r\n"
     ]
    }
   ],
   "source": [
    "!ls"
   ]
  },
  {
   "cell_type": "markdown",
   "id": "98c7f079",
   "metadata": {},
   "source": [
    "## <font color='red'>Let's load the dataset for one-minute data prediction.</font>"
   ]
  },
  {
   "cell_type": "code",
   "execution_count": 7,
   "id": "72556b5c",
   "metadata": {},
   "outputs": [],
   "source": [
    "datasets = pd.read_csv(\"eurusd_minute.csv\")"
   ]
  },
  {
   "cell_type": "code",
   "execution_count": 8,
   "id": "83659936",
   "metadata": {},
   "outputs": [],
   "source": [
    "eurusd_news = pd.read_csv(\"eurusd_news.csv\")"
   ]
  },
  {
   "cell_type": "code",
   "execution_count": 19,
   "id": "a3968654",
   "metadata": {},
   "outputs": [
    {
     "data": {
      "text/plain": [
       "(5618819, 12)"
      ]
     },
     "execution_count": 19,
     "metadata": {},
     "output_type": "execute_result"
    }
   ],
   "source": [
    "datasets.shape"
   ]
  },
  {
   "cell_type": "code",
   "execution_count": 9,
   "id": "46c28bb3",
   "metadata": {},
   "outputs": [
    {
     "data": {
      "text/html": [
       "<div>\n",
       "<style scoped>\n",
       "    .dataframe tbody tr th:only-of-type {\n",
       "        vertical-align: middle;\n",
       "    }\n",
       "\n",
       "    .dataframe tbody tr th {\n",
       "        vertical-align: top;\n",
       "    }\n",
       "\n",
       "    .dataframe thead th {\n",
       "        text-align: right;\n",
       "    }\n",
       "</style>\n",
       "<table border=\"1\" class=\"dataframe\">\n",
       "  <thead>\n",
       "    <tr style=\"text-align: right;\">\n",
       "      <th></th>\n",
       "      <th>Date</th>\n",
       "      <th>Time</th>\n",
       "      <th>BO</th>\n",
       "      <th>BH</th>\n",
       "      <th>BL</th>\n",
       "      <th>BC</th>\n",
       "      <th>BCh</th>\n",
       "      <th>AO</th>\n",
       "      <th>AH</th>\n",
       "      <th>AL</th>\n",
       "      <th>AC</th>\n",
       "      <th>ACh</th>\n",
       "    </tr>\n",
       "  </thead>\n",
       "  <tbody>\n",
       "    <tr>\n",
       "      <th>0</th>\n",
       "      <td>2005-01-02</td>\n",
       "      <td>18:29</td>\n",
       "      <td>1.3555</td>\n",
       "      <td>1.3555</td>\n",
       "      <td>1.3555</td>\n",
       "      <td>1.3555</td>\n",
       "      <td>0.0</td>\n",
       "      <td>1.3565</td>\n",
       "      <td>1.3565</td>\n",
       "      <td>1.3565</td>\n",
       "      <td>1.3565</td>\n",
       "      <td>0.0</td>\n",
       "    </tr>\n",
       "    <tr>\n",
       "      <th>1</th>\n",
       "      <td>2005-01-02</td>\n",
       "      <td>18:38</td>\n",
       "      <td>1.3555</td>\n",
       "      <td>1.3555</td>\n",
       "      <td>1.3555</td>\n",
       "      <td>1.3555</td>\n",
       "      <td>0.0</td>\n",
       "      <td>1.3565</td>\n",
       "      <td>1.3565</td>\n",
       "      <td>1.3565</td>\n",
       "      <td>1.3565</td>\n",
       "      <td>0.0</td>\n",
       "    </tr>\n",
       "    <tr>\n",
       "      <th>2</th>\n",
       "      <td>2005-01-02</td>\n",
       "      <td>18:51</td>\n",
       "      <td>1.3562</td>\n",
       "      <td>1.3562</td>\n",
       "      <td>1.3562</td>\n",
       "      <td>1.3562</td>\n",
       "      <td>0.0</td>\n",
       "      <td>1.3572</td>\n",
       "      <td>1.3572</td>\n",
       "      <td>1.3572</td>\n",
       "      <td>1.3572</td>\n",
       "      <td>0.0</td>\n",
       "    </tr>\n",
       "    <tr>\n",
       "      <th>3</th>\n",
       "      <td>2005-01-02</td>\n",
       "      <td>18:52</td>\n",
       "      <td>1.3560</td>\n",
       "      <td>1.3560</td>\n",
       "      <td>1.3560</td>\n",
       "      <td>1.3560</td>\n",
       "      <td>0.0</td>\n",
       "      <td>1.3570</td>\n",
       "      <td>1.3570</td>\n",
       "      <td>1.3570</td>\n",
       "      <td>1.3570</td>\n",
       "      <td>0.0</td>\n",
       "    </tr>\n",
       "    <tr>\n",
       "      <th>4</th>\n",
       "      <td>2005-01-02</td>\n",
       "      <td>18:55</td>\n",
       "      <td>1.3563</td>\n",
       "      <td>1.3563</td>\n",
       "      <td>1.3563</td>\n",
       "      <td>1.3563</td>\n",
       "      <td>0.0</td>\n",
       "      <td>1.3573</td>\n",
       "      <td>1.3573</td>\n",
       "      <td>1.3573</td>\n",
       "      <td>1.3573</td>\n",
       "      <td>0.0</td>\n",
       "    </tr>\n",
       "  </tbody>\n",
       "</table>\n",
       "</div>"
      ],
      "text/plain": [
       "         Date   Time      BO      BH      BL      BC  BCh      AO      AH   \n",
       "0  2005-01-02  18:29  1.3555  1.3555  1.3555  1.3555  0.0  1.3565  1.3565  \\\n",
       "1  2005-01-02  18:38  1.3555  1.3555  1.3555  1.3555  0.0  1.3565  1.3565   \n",
       "2  2005-01-02  18:51  1.3562  1.3562  1.3562  1.3562  0.0  1.3572  1.3572   \n",
       "3  2005-01-02  18:52  1.3560  1.3560  1.3560  1.3560  0.0  1.3570  1.3570   \n",
       "4  2005-01-02  18:55  1.3563  1.3563  1.3563  1.3563  0.0  1.3573  1.3573   \n",
       "\n",
       "       AL      AC  ACh  \n",
       "0  1.3565  1.3565  0.0  \n",
       "1  1.3565  1.3565  0.0  \n",
       "2  1.3572  1.3572  0.0  \n",
       "3  1.3570  1.3570  0.0  \n",
       "4  1.3573  1.3573  0.0  "
      ]
     },
     "execution_count": 9,
     "metadata": {},
     "output_type": "execute_result"
    }
   ],
   "source": [
    "datasets.head()"
   ]
  },
  {
   "cell_type": "code",
   "execution_count": 10,
   "id": "520f86fb",
   "metadata": {
    "scrolled": true
   },
   "outputs": [
    {
     "data": {
      "text/html": [
       "<div>\n",
       "<style scoped>\n",
       "    .dataframe tbody tr th:only-of-type {\n",
       "        vertical-align: middle;\n",
       "    }\n",
       "\n",
       "    .dataframe tbody tr th {\n",
       "        vertical-align: top;\n",
       "    }\n",
       "\n",
       "    .dataframe thead th {\n",
       "        text-align: right;\n",
       "    }\n",
       "</style>\n",
       "<table border=\"1\" class=\"dataframe\">\n",
       "  <thead>\n",
       "    <tr style=\"text-align: right;\">\n",
       "      <th></th>\n",
       "      <th>Unnamed: 0</th>\n",
       "      <th>Date</th>\n",
       "      <th>Title</th>\n",
       "      <th>Article</th>\n",
       "    </tr>\n",
       "  </thead>\n",
       "  <tbody>\n",
       "    <tr>\n",
       "      <th>0</th>\n",
       "      <td>0</td>\n",
       "      <td>2019-01-18</td>\n",
       "      <td>Forex - U.S. Dollar Rises as Consumer Optimism...</td>\n",
       "      <td>© Reuters.\\nInvesting.com - The greenback pick...</td>\n",
       "    </tr>\n",
       "    <tr>\n",
       "      <th>1</th>\n",
       "      <td>1</td>\n",
       "      <td>2019-01-18</td>\n",
       "      <td>Forex - Upbeat U.S. Data Can't Help Dollar as ...</td>\n",
       "      <td>© Reuters.\\nInvesting.com – The U.S. dollar li...</td>\n",
       "    </tr>\n",
       "    <tr>\n",
       "      <th>2</th>\n",
       "      <td>2</td>\n",
       "      <td>2019-01-17</td>\n",
       "      <td>Forex - U.S. Dollar Remains Steady as Jobless ...</td>\n",
       "      <td>© Reuters.\\nInvesting.com - The greenback was ...</td>\n",
       "    </tr>\n",
       "    <tr>\n",
       "      <th>3</th>\n",
       "      <td>3</td>\n",
       "      <td>2019-01-17</td>\n",
       "      <td>Forex - Dollar Pushes Higher; Pound Slips as R...</td>\n",
       "      <td>© Reuters.\\nInvesting.com - The U.S. dollar pu...</td>\n",
       "    </tr>\n",
       "    <tr>\n",
       "      <th>4</th>\n",
       "      <td>4</td>\n",
       "      <td>2019-01-17</td>\n",
       "      <td>World stocks rise; sterling up ahead of May vote</td>\n",
       "      <td>© Reuters. A trader works on the floor at the ...</td>\n",
       "    </tr>\n",
       "  </tbody>\n",
       "</table>\n",
       "</div>"
      ],
      "text/plain": [
       "   Unnamed: 0        Date                                              Title   \n",
       "0           0  2019-01-18  Forex - U.S. Dollar Rises as Consumer Optimism...  \\\n",
       "1           1  2019-01-18  Forex - Upbeat U.S. Data Can't Help Dollar as ...   \n",
       "2           2  2019-01-17  Forex - U.S. Dollar Remains Steady as Jobless ...   \n",
       "3           3  2019-01-17  Forex - Dollar Pushes Higher; Pound Slips as R...   \n",
       "4           4  2019-01-17   World stocks rise; sterling up ahead of May vote   \n",
       "\n",
       "                                             Article  \n",
       "0  © Reuters.\\nInvesting.com - The greenback pick...  \n",
       "1  © Reuters.\\nInvesting.com – The U.S. dollar li...  \n",
       "2  © Reuters.\\nInvesting.com - The greenback was ...  \n",
       "3  © Reuters.\\nInvesting.com - The U.S. dollar pu...  \n",
       "4  © Reuters. A trader works on the floor at the ...  "
      ]
     },
     "execution_count": 10,
     "metadata": {},
     "output_type": "execute_result"
    }
   ],
   "source": [
    "eurusd_news.head()"
   ]
  },
  {
   "cell_type": "code",
   "execution_count": 13,
   "id": "9a55b511",
   "metadata": {
    "scrolled": true
   },
   "outputs": [],
   "source": [
    "combined_datasets = pd.merge(datasets, eurusd_news, on='Date', how='outer').fillna(0)"
   ]
  },
  {
   "cell_type": "code",
   "execution_count": 16,
   "id": "d86e6c73",
   "metadata": {},
   "outputs": [
    {
     "data": {
      "text/plain": [
       "(6733274, 15)"
      ]
     },
     "execution_count": 16,
     "metadata": {},
     "output_type": "execute_result"
    }
   ],
   "source": [
    "combined_datasets.shape"
   ]
  }
 ],
 "metadata": {
  "kernelspec": {
   "display_name": "Python 3 (ipykernel)",
   "language": "python",
   "name": "python3"
  },
  "language_info": {
   "codemirror_mode": {
    "name": "ipython",
    "version": 3
   },
   "file_extension": ".py",
   "mimetype": "text/x-python",
   "name": "python",
   "nbconvert_exporter": "python",
   "pygments_lexer": "ipython3",
   "version": "3.8.10"
  }
 },
 "nbformat": 4,
 "nbformat_minor": 5
}
